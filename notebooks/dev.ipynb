{
 "cells": [
  {
   "cell_type": "code",
   "execution_count": 2,
   "metadata": {},
   "outputs": [],
   "source": [
    "import pandas as pd\n",
    "import numpy as np\n",
    "import sys\n",
    "sys.path.append('..')\n",
    "from src.utils import get_config, get_data\n",
    "from src.ext.HurstIndexSolver import HurstIndexSolver\n",
    "\n",
    "config = get_config()"
   ]
  },
  {
   "cell_type": "code",
   "execution_count": 3,
   "metadata": {},
   "outputs": [],
   "source": [
    "ftse100 = get_data('ftse100')\n",
    "ftsemib = get_data('ftsemib')\n",
    "sp500 = get_data('s&p500')\n",
    "ssec = get_data('ssec')"
   ]
  },
  {
   "cell_type": "code",
   "execution_count": 4,
   "metadata": {},
   "outputs": [
    {
     "name": "stdout",
     "output_type": "stream",
     "text": [
      "Combined series start date: 2020-01-02 00:00:00\n",
      "Combined series end date: 2022-12-30 00:00:00\n",
      "Total number of observations: 782\n"
     ]
    }
   ],
   "source": [
    "data = ['ftse100', 'ftsemib', 's&p500', 'ssec']\n",
    "\n",
    "dates = {\n",
    "    \"Covid\": [\"2020-01-01\",\"2022-12-31\"],\n",
    "    }\n",
    "\n",
    "import pandas as pd\n",
    "\n",
    "start_date = min([pd.to_datetime(period[0]) for period in dates.values()])\n",
    "end_date = max([pd.to_datetime(period[1]) for period in dates.values()])\n",
    "\n",
    "global_data = {undl: get_data(undl, start_date, end_date) for undl in data}\n",
    "\n",
    "\n",
    "common_index = pd.date_range(\n",
    "        start=max([undl.index.min() for undl in global_data.values()]),\n",
    "        end=min([undl.index.max() for undl in global_data.values()]),\n",
    "        freq='B',\n",
    "    )\n",
    "\n",
    "# Reindex all series to the common date range\n",
    "full_sample = pd.DataFrame({undl: global_data[undl].reindex(common_index) for undl in global_data.keys()})\n",
    "\n",
    "# Drop any rows with missing values\n",
    "full_sample = full_sample.ffill()\n",
    "\n",
    "print(f\"Combined series start date: {full_sample.index.min()}\")\n",
    "print(f\"Combined series end date: {full_sample.index.max()}\")\n",
    "print(f\"Total number of observations: {len(full_sample)}\")"
   ]
  },
  {
   "cell_type": "code",
   "execution_count": null,
   "metadata": {},
   "outputs": [
    {
     "data": {
      "application/vnd.microsoft.datawrangler.viewer.v0+json": {
       "columns": [
        {
         "name": "index",
         "rawType": "datetime64[ns]",
         "type": "datetime"
        },
        {
         "name": "ftse100",
         "rawType": "float64",
         "type": "float"
        },
        {
         "name": "ftsemib",
         "rawType": "float64",
         "type": "float"
        },
        {
         "name": "s&p500",
         "rawType": "float64",
         "type": "float"
        },
        {
         "name": "ssec",
         "rawType": "float64",
         "type": "float"
        }
       ],
       "conversionMethod": "pd.DataFrame",
       "ref": "832a78e0-cd40-4e14-afad-175f10ba3324",
       "rows": [
        [
         "2020-01-02 00:00:00",
         "7604.2998046875",
         "23836.0",
         "3257.85009765625",
         "3085.197998046875"
        ],
        [
         "2020-01-03 00:00:00",
         "7622.39990234375",
         "23702.0",
         "3234.85009765625",
         "3083.785888671875"
        ],
        [
         "2020-01-06 00:00:00",
         "7575.2998046875",
         "23581.0",
         "3246.280029296875",
         "3083.407958984375"
        ],
        [
         "2020-01-07 00:00:00",
         "7573.89990234375",
         "23723.0",
         "3237.179931640625",
         "3104.802001953125"
        ],
        [
         "2020-01-08 00:00:00",
         "7574.89990234375",
         "23832.0",
         "3253.050048828125",
         "3066.89306640625"
        ],
        [
         "2020-01-09 00:00:00",
         "7598.10009765625",
         "24017.0",
         "3274.699951171875",
         "3094.882080078125"
        ],
        [
         "2020-01-10 00:00:00",
         "7587.89990234375",
         "24021.0",
         "3265.35009765625",
         "3092.291015625"
        ],
        [
         "2020-01-13 00:00:00",
         "7617.60009765625",
         "23897.0",
         "3288.1298828125",
         "3115.570068359375"
        ],
        [
         "2020-01-14 00:00:00",
         "7622.39990234375",
         "23928.0",
         "3283.14990234375",
         "3106.820068359375"
        ],
        [
         "2020-01-15 00:00:00",
         "7642.7998046875",
         "23764.0",
         "3289.2900390625",
         "3090.0400390625"
        ],
        [
         "2020-01-16 00:00:00",
         "7609.7998046875",
         "23940.0",
         "3316.81005859375",
         "3074.0810546875"
        ],
        [
         "2020-01-17 00:00:00",
         "7674.60009765625",
         "24141.0",
         "3329.6201171875",
         "3075.49609375"
        ],
        [
         "2020-01-20 00:00:00",
         "7651.39990234375",
         "24002.0",
         "3329.6201171875",
         "3095.787109375"
        ],
        [
         "2020-01-21 00:00:00",
         "7610.7001953125",
         "23845.0",
         "3320.7900390625",
         "3052.139892578125"
        ],
        [
         "2020-01-22 00:00:00",
         "7571.89990234375",
         "23706.0",
         "3321.75",
         "3060.7548828125"
        ],
        [
         "2020-01-23 00:00:00",
         "7507.7001953125",
         "23707.0",
         "3325.5400390625",
         "2976.528076171875"
        ],
        [
         "2020-01-24 00:00:00",
         "7586.0",
         "23969.0",
         "3295.469970703125",
         "2976.528076171875"
        ],
        [
         "2020-01-27 00:00:00",
         "7412.10009765625",
         "23416.0",
         "3243.6298828125",
         "2976.528076171875"
        ],
        [
         "2020-01-28 00:00:00",
         "7480.7001953125",
         "24028.0",
         "3276.239990234375",
         "2976.528076171875"
        ],
        [
         "2020-01-29 00:00:00",
         "7483.60009765625",
         "24165.0",
         "3273.39990234375",
         "2976.528076171875"
        ],
        [
         "2020-01-30 00:00:00",
         "7382.0",
         "23781.0",
         "3283.659912109375",
         "2976.528076171875"
        ],
        [
         "2020-01-31 00:00:00",
         "7286.0",
         "23237.0",
         "3225.52001953125",
         "2976.528076171875"
        ],
        [
         "2020-02-03 00:00:00",
         "7326.2998046875",
         "23460.0",
         "3248.919921875",
         "2746.60595703125"
        ],
        [
         "2020-02-04 00:00:00",
         "7439.7998046875",
         "23845.0",
         "3297.590087890625",
         "2783.2880859375"
        ],
        [
         "2020-02-05 00:00:00",
         "7482.5",
         "24237.0",
         "3334.68994140625",
         "2818.087890625"
        ],
        [
         "2020-02-06 00:00:00",
         "7504.7998046875",
         "24490.0",
         "3345.780029296875",
         "2866.510009765625"
        ],
        [
         "2020-02-07 00:00:00",
         "7466.7001953125",
         "24478.0",
         "3327.7099609375",
         "2875.9599609375"
        ],
        [
         "2020-02-10 00:00:00",
         "7446.89990234375",
         "24508.0",
         "3352.090087890625",
         "2890.488037109375"
        ],
        [
         "2020-02-11 00:00:00",
         "7499.39990234375",
         "24689.0",
         "3357.75",
         "2901.669921875"
        ],
        [
         "2020-02-12 00:00:00",
         "7534.39990234375",
         "24861.0",
         "3379.449951171875",
         "2926.89892578125"
        ],
        [
         "2020-02-13 00:00:00",
         "7452.0",
         "24892.0",
         "3373.93994140625",
         "2906.073974609375"
        ],
        [
         "2020-02-14 00:00:00",
         "7409.10009765625",
         "24867.0",
         "3380.159912109375",
         "2917.008056640625"
        ],
        [
         "2020-02-17 00:00:00",
         "7433.2998046875",
         "25121.0",
         "3380.159912109375",
         "2983.6220703125"
        ],
        [
         "2020-02-18 00:00:00",
         "7382.0",
         "25224.0",
         "3370.2900390625",
         "2984.971923828125"
        ],
        [
         "2020-02-19 00:00:00",
         "7457.0",
         "25478.0",
         "3386.14990234375",
         "2975.402099609375"
        ],
        [
         "2020-02-20 00:00:00",
         "7436.60009765625",
         "25080.0",
         "3373.22998046875",
         "3030.154052734375"
        ],
        [
         "2020-02-21 00:00:00",
         "7403.89990234375",
         "24773.0",
         "3337.75",
         "3039.6689453125"
        ],
        [
         "2020-02-24 00:00:00",
         "7156.7998046875",
         "23427.0",
         "3225.889892578125",
         "3031.23291015625"
        ],
        [
         "2020-02-25 00:00:00",
         "7017.89990234375",
         "23090.0",
         "3128.2099609375",
         "3013.050048828125"
        ],
        [
         "2020-02-26 00:00:00",
         "7042.5",
         "23423.0",
         "3116.389892578125",
         "2987.928955078125"
        ],
        [
         "2020-02-27 00:00:00",
         "6796.39990234375",
         "22799.0",
         "2978.760009765625",
         "2991.330078125"
        ],
        [
         "2020-02-28 00:00:00",
         "6580.60009765625",
         "21984.0",
         "2954.219970703125",
         "2880.303955078125"
        ],
        [
         "2020-03-02 00:00:00",
         "6654.89990234375",
         "21655.0",
         "3090.22998046875",
         "2970.930908203125"
        ],
        [
         "2020-03-03 00:00:00",
         "6718.2001953125",
         "21748.0",
         "3003.3701171875",
         "2992.89697265625"
        ],
        [
         "2020-03-04 00:00:00",
         "6815.60009765625",
         "21946.0",
         "3130.1201171875",
         "3011.666015625"
        ],
        [
         "2020-03-05 00:00:00",
         "6705.39990234375",
         "21555.0",
         "3023.93994140625",
         "3071.677001953125"
        ],
        [
         "2020-03-06 00:00:00",
         "6462.60009765625",
         "20800.0",
         "2972.3701171875",
         "3034.510986328125"
        ],
        [
         "2020-03-09 00:00:00",
         "5965.7998046875",
         "18476.0",
         "2746.56005859375",
         "2943.291015625"
        ],
        [
         "2020-03-10 00:00:00",
         "5960.2001953125",
         "17870.0",
         "2882.22998046875",
         "2996.761962890625"
        ],
        [
         "2020-03-11 00:00:00",
         "5876.5",
         "17929.0",
         "2741.3798828125",
         "2968.51708984375"
        ]
       ],
       "shape": {
        "columns": 4,
        "rows": 782
       }
      },
      "text/html": [
       "<div>\n",
       "<style scoped>\n",
       "    .dataframe tbody tr th:only-of-type {\n",
       "        vertical-align: middle;\n",
       "    }\n",
       "\n",
       "    .dataframe tbody tr th {\n",
       "        vertical-align: top;\n",
       "    }\n",
       "\n",
       "    .dataframe thead th {\n",
       "        text-align: right;\n",
       "    }\n",
       "</style>\n",
       "<table border=\"1\" class=\"dataframe\">\n",
       "  <thead>\n",
       "    <tr style=\"text-align: right;\">\n",
       "      <th></th>\n",
       "      <th>ftse100</th>\n",
       "      <th>ftsemib</th>\n",
       "      <th>s&amp;p500</th>\n",
       "      <th>ssec</th>\n",
       "    </tr>\n",
       "  </thead>\n",
       "  <tbody>\n",
       "    <tr>\n",
       "      <th>2020-01-02</th>\n",
       "      <td>7604.299805</td>\n",
       "      <td>23836.0</td>\n",
       "      <td>3257.850098</td>\n",
       "      <td>3085.197998</td>\n",
       "    </tr>\n",
       "    <tr>\n",
       "      <th>2020-01-03</th>\n",
       "      <td>7622.399902</td>\n",
       "      <td>23702.0</td>\n",
       "      <td>3234.850098</td>\n",
       "      <td>3083.785889</td>\n",
       "    </tr>\n",
       "    <tr>\n",
       "      <th>2020-01-06</th>\n",
       "      <td>7575.299805</td>\n",
       "      <td>23581.0</td>\n",
       "      <td>3246.280029</td>\n",
       "      <td>3083.407959</td>\n",
       "    </tr>\n",
       "    <tr>\n",
       "      <th>2020-01-07</th>\n",
       "      <td>7573.899902</td>\n",
       "      <td>23723.0</td>\n",
       "      <td>3237.179932</td>\n",
       "      <td>3104.802002</td>\n",
       "    </tr>\n",
       "    <tr>\n",
       "      <th>2020-01-08</th>\n",
       "      <td>7574.899902</td>\n",
       "      <td>23832.0</td>\n",
       "      <td>3253.050049</td>\n",
       "      <td>3066.893066</td>\n",
       "    </tr>\n",
       "    <tr>\n",
       "      <th>...</th>\n",
       "      <td>...</td>\n",
       "      <td>...</td>\n",
       "      <td>...</td>\n",
       "      <td>...</td>\n",
       "    </tr>\n",
       "    <tr>\n",
       "      <th>2022-12-26</th>\n",
       "      <td>7473.000000</td>\n",
       "      <td>23878.0</td>\n",
       "      <td>3844.820068</td>\n",
       "      <td>3065.562988</td>\n",
       "    </tr>\n",
       "    <tr>\n",
       "      <th>2022-12-27</th>\n",
       "      <td>7473.000000</td>\n",
       "      <td>23856.0</td>\n",
       "      <td>3829.250000</td>\n",
       "      <td>3095.570068</td>\n",
       "    </tr>\n",
       "    <tr>\n",
       "      <th>2022-12-28</th>\n",
       "      <td>7497.200195</td>\n",
       "      <td>23770.0</td>\n",
       "      <td>3783.219971</td>\n",
       "      <td>3087.399902</td>\n",
       "    </tr>\n",
       "    <tr>\n",
       "      <th>2022-12-29</th>\n",
       "      <td>7512.700195</td>\n",
       "      <td>24057.0</td>\n",
       "      <td>3849.280029</td>\n",
       "      <td>3073.699951</td>\n",
       "    </tr>\n",
       "    <tr>\n",
       "      <th>2022-12-30</th>\n",
       "      <td>7451.700195</td>\n",
       "      <td>23707.0</td>\n",
       "      <td>3839.500000</td>\n",
       "      <td>3089.260010</td>\n",
       "    </tr>\n",
       "  </tbody>\n",
       "</table>\n",
       "<p>782 rows × 4 columns</p>\n",
       "</div>"
      ],
      "text/plain": [
       "                ftse100  ftsemib       s&p500         ssec\n",
       "2020-01-02  7604.299805  23836.0  3257.850098  3085.197998\n",
       "2020-01-03  7622.399902  23702.0  3234.850098  3083.785889\n",
       "2020-01-06  7575.299805  23581.0  3246.280029  3083.407959\n",
       "2020-01-07  7573.899902  23723.0  3237.179932  3104.802002\n",
       "2020-01-08  7574.899902  23832.0  3253.050049  3066.893066\n",
       "...                 ...      ...          ...          ...\n",
       "2022-12-26  7473.000000  23878.0  3844.820068  3065.562988\n",
       "2022-12-27  7473.000000  23856.0  3829.250000  3095.570068\n",
       "2022-12-28  7497.200195  23770.0  3783.219971  3087.399902\n",
       "2022-12-29  7512.700195  24057.0  3849.280029  3073.699951\n",
       "2022-12-30  7451.700195  23707.0  3839.500000  3089.260010\n",
       "\n",
       "[782 rows x 4 columns]"
      ]
     },
     "execution_count": 4,
     "metadata": {},
     "output_type": "execute_result"
    }
   ],
   "source": [
    "full_sample.plot()"
   ]
  },
  {
   "cell_type": "code",
   "execution_count": 32,
   "metadata": {},
   "outputs": [
    {
     "data": {
      "application/vnd.microsoft.datawrangler.viewer.v0+json": {
       "columns": [
        {
         "name": "index",
         "rawType": "datetime64[ns]",
         "type": "datetime"
        },
        {
         "name": "S&P500",
         "rawType": "float64",
         "type": "float"
        },
        {
         "name": "SSEC",
         "rawType": "float64",
         "type": "float"
        },
        {
         "name": "FTSE100",
         "rawType": "float64",
         "type": "float"
        },
        {
         "name": "FTSEMIB",
         "rawType": "float64",
         "type": "float"
        }
       ],
       "conversionMethod": "pd.DataFrame",
       "ref": "8656ebca-d36f-46db-b801-bcb7dd900ce4",
       "rows": [
        [
         "1997-12-31 00:00:00",
         "970.4299926757812",
         "1194.10205078125",
         "5135.5",
         "24402.0"
        ],
        [
         "1998-01-01 00:00:00",
         "970.4299926757812",
         "1194.10205078125",
         "5135.5",
         "24402.0"
        ],
        [
         "1998-01-02 00:00:00",
         "975.0399780273438",
         "1194.10205078125",
         "5193.5",
         "24914.0"
        ],
        [
         "1998-01-05 00:00:00",
         "977.0700073242188",
         "1220.4730224609375",
         "5262.5",
         "25734.0"
        ],
        [
         "1998-01-06 00:00:00",
         "966.5800170898438",
         "1233.6199951171875",
         "5264.39990234375",
         "25734.0"
        ],
        [
         "1998-01-07 00:00:00",
         "964.0",
         "1244.0699462890625",
         "5224.10009765625",
         "25961.0"
        ],
        [
         "1998-01-08 00:00:00",
         "956.0499877929688",
         "1237.1629638671875",
         "5237.10009765625",
         "25675.0"
        ],
        [
         "1998-01-09 00:00:00",
         "927.6900024414062",
         "1239.9010009765625",
         "5138.2998046875",
         "25773.0"
        ],
        [
         "1998-01-12 00:00:00",
         "939.2100219726562",
         "1226.9659423828125",
         "5068.7998046875",
         "25731.0"
        ],
        [
         "1998-01-13 00:00:00",
         "952.1199951171876",
         "1167.64697265625",
         "5083.89990234375",
         "26066.0"
        ],
        [
         "1998-01-14 00:00:00",
         "957.9400024414062",
         "1202.2149658203125",
         "5106.89990234375",
         "26219.0"
        ],
        [
         "1998-01-15 00:00:00",
         "950.72998046875",
         "1215.4310302734375",
         "5165.7998046875",
         "26300.0"
        ],
        [
         "1998-01-16 00:00:00",
         "961.510009765625",
         "1213.9620361328125",
         "5263.10009765625",
         "26683.0"
        ],
        [
         "1998-01-19 00:00:00",
         "961.510009765625",
         "1213.1290283203125",
         "5273.60009765625",
         "26381.0"
        ],
        [
         "1998-01-20 00:00:00",
         "978.5999755859376",
         "1203.7149658203125",
         "5278.2001953125",
         "26803.0"
        ],
        [
         "1998-01-21 00:00:00",
         "970.8099975585938",
         "1200.2030029296875",
         "5272.2998046875",
         "26483.0"
        ],
        [
         "1998-01-22 00:00:00",
         "963.0399780273438",
         "1204.4300537109375",
         "5253.10009765625",
         "26703.0"
        ],
        [
         "1998-01-23 00:00:00",
         "957.5900268554688",
         "1222.9129638671875",
         "5181.39990234375",
         "26368.0"
        ],
        [
         "1998-01-26 00:00:00",
         "956.9500122070312",
         "1222.9129638671875",
         "5237.2001953125",
         "26500.0"
        ],
        [
         "1998-01-27 00:00:00",
         "969.02001953125",
         "1222.9129638671875",
         "5326.2998046875",
         "26754.0"
        ],
        [
         "1998-01-28 00:00:00",
         "977.4600219726562",
         "1222.9129638671875",
         "5372.60009765625",
         "26966.0"
        ],
        [
         "1998-01-29 00:00:00",
         "985.489990234375",
         "1222.9129638671875",
         "5422.39990234375",
         "27191.0"
        ],
        [
         "1998-01-30 00:00:00",
         "980.280029296875",
         "1222.9129638671875",
         "5458.5",
         "27549.0"
        ],
        [
         "1998-02-02 00:00:00",
         "1001.27001953125",
         "1222.9129638671875",
         "5599.0",
         "27737.0"
        ],
        [
         "1998-02-03 00:00:00",
         "1006.0",
         "1222.9129638671875",
         "5612.7998046875",
         "27525.0"
        ],
        [
         "1998-02-04 00:00:00",
         "1006.9000244140624",
         "1222.9129638671875",
         "5595.7998046875",
         "27920.0"
        ],
        [
         "1998-02-05 00:00:00",
         "1003.5399780273438",
         "1222.9129638671875",
         "5606.39990234375",
         "28206.0"
        ],
        [
         "1998-02-06 00:00:00",
         "1012.4600219726562",
         "1222.9129638671875",
         "5629.7001953125",
         "28389.0"
        ],
        [
         "1998-02-09 00:00:00",
         "1010.739990234375",
         "1248.0400390625",
         "5600.89990234375",
         "28267.0"
        ],
        [
         "1998-02-10 00:00:00",
         "1019.010009765625",
         "1236.512939453125",
         "5613.2998046875",
         "28708.0"
        ],
        [
         "1998-02-11 00:00:00",
         "1020.010009765625",
         "1250.238037109375",
         "5607.89990234375",
         "28923.0"
        ],
        [
         "1998-02-12 00:00:00",
         "1024.1400146484375",
         "1246.2950439453125",
         "5552.5",
         "28464.0"
        ],
        [
         "1998-02-13 00:00:00",
         "1020.0900268554688",
         "1245.9110107421875",
         "5582.2998046875",
         "28477.0"
        ],
        [
         "1998-02-16 00:00:00",
         "1020.0900268554688",
         "1236.2359619140625",
         "5619.89990234375",
         "28613.0"
        ],
        [
         "1998-02-17 00:00:00",
         "1022.760009765625",
         "1238.5",
         "5709.5",
         "28945.0"
        ],
        [
         "1998-02-18 00:00:00",
         "1032.0799560546875",
         "1229.8310546875",
         "5723.39990234375",
         "28701.0"
        ],
        [
         "1998-02-19 00:00:00",
         "1028.280029296875",
         "1232.583984375",
         "5718.5",
         "28247.0"
        ],
        [
         "1998-02-20 00:00:00",
         "1034.2099609375",
         "1226.02001953125",
         "5751.60009765625",
         "27847.0"
        ],
        [
         "1998-02-23 00:00:00",
         "1038.1400146484375",
         "1208.60302734375",
         "5702.7998046875",
         "27759.0"
        ],
        [
         "1998-02-24 00:00:00",
         "1030.56005859375",
         "1208.218017578125",
         "5651.0",
         "27774.0"
        ],
        [
         "1998-02-25 00:00:00",
         "1042.9000244140625",
         "1194.6729736328125",
         "5745.10009765625",
         "28564.0"
        ],
        [
         "1998-02-26 00:00:00",
         "1048.6700439453125",
         "1206.6739501953125",
         "5764.7998046875",
         "28591.0"
        ],
        [
         "1998-02-27 00:00:00",
         "1049.3399658203125",
         "1206.530029296875",
         "5767.2998046875",
         "28543.0"
        ],
        [
         "1998-03-02 00:00:00",
         "1047.699951171875",
         "1188.3060302734375",
         "5820.60009765625",
         "29299.0"
        ],
        [
         "1998-03-03 00:00:00",
         "1052.02001953125",
         "1201.7889404296875",
         "5807.7001953125",
         "29431.0"
        ],
        [
         "1998-03-04 00:00:00",
         "1047.3299560546875",
         "1213.2530517578125",
         "5733.10009765625",
         "29262.0"
        ],
        [
         "1998-03-05 00:00:00",
         "1035.050048828125",
         "1207.541015625",
         "5695.60009765625",
         "29414.0"
        ],
        [
         "1998-03-06 00:00:00",
         "1055.68994140625",
         "1206.4520263671875",
         "5782.89990234375",
         "29846.0"
        ],
        [
         "1998-03-09 00:00:00",
         "1052.31005859375",
         "1200.833984375",
         "5818.89990234375",
         "30282.0"
        ],
        [
         "1998-03-10 00:00:00",
         "1064.25",
         "1199.83203125",
         "5828.5",
         "30426.0"
        ]
       ],
       "shape": {
        "columns": 4,
        "rows": 7108
       }
      },
      "text/html": [
       "<div>\n",
       "<style scoped>\n",
       "    .dataframe tbody tr th:only-of-type {\n",
       "        vertical-align: middle;\n",
       "    }\n",
       "\n",
       "    .dataframe tbody tr th {\n",
       "        vertical-align: top;\n",
       "    }\n",
       "\n",
       "    .dataframe thead th {\n",
       "        text-align: right;\n",
       "    }\n",
       "</style>\n",
       "<table border=\"1\" class=\"dataframe\">\n",
       "  <thead>\n",
       "    <tr style=\"text-align: right;\">\n",
       "      <th></th>\n",
       "      <th>S&amp;P500</th>\n",
       "      <th>SSEC</th>\n",
       "      <th>FTSE100</th>\n",
       "      <th>FTSEMIB</th>\n",
       "    </tr>\n",
       "  </thead>\n",
       "  <tbody>\n",
       "    <tr>\n",
       "      <th>1997-12-31</th>\n",
       "      <td>970.429993</td>\n",
       "      <td>1194.102051</td>\n",
       "      <td>5135.500000</td>\n",
       "      <td>24402.0</td>\n",
       "    </tr>\n",
       "    <tr>\n",
       "      <th>1998-01-01</th>\n",
       "      <td>970.429993</td>\n",
       "      <td>1194.102051</td>\n",
       "      <td>5135.500000</td>\n",
       "      <td>24402.0</td>\n",
       "    </tr>\n",
       "    <tr>\n",
       "      <th>1998-01-02</th>\n",
       "      <td>975.039978</td>\n",
       "      <td>1194.102051</td>\n",
       "      <td>5193.500000</td>\n",
       "      <td>24914.0</td>\n",
       "    </tr>\n",
       "    <tr>\n",
       "      <th>1998-01-05</th>\n",
       "      <td>977.070007</td>\n",
       "      <td>1220.473022</td>\n",
       "      <td>5262.500000</td>\n",
       "      <td>25734.0</td>\n",
       "    </tr>\n",
       "    <tr>\n",
       "      <th>1998-01-06</th>\n",
       "      <td>966.580017</td>\n",
       "      <td>1233.619995</td>\n",
       "      <td>5264.399902</td>\n",
       "      <td>25734.0</td>\n",
       "    </tr>\n",
       "    <tr>\n",
       "      <th>...</th>\n",
       "      <td>...</td>\n",
       "      <td>...</td>\n",
       "      <td>...</td>\n",
       "      <td>...</td>\n",
       "    </tr>\n",
       "    <tr>\n",
       "      <th>2025-03-24</th>\n",
       "      <td>5767.569824</td>\n",
       "      <td>3370.028076</td>\n",
       "      <td>8638.000000</td>\n",
       "      <td>38973.0</td>\n",
       "    </tr>\n",
       "    <tr>\n",
       "      <th>2025-03-25</th>\n",
       "      <td>5776.649902</td>\n",
       "      <td>3369.976074</td>\n",
       "      <td>8663.799805</td>\n",
       "      <td>39385.0</td>\n",
       "    </tr>\n",
       "    <tr>\n",
       "      <th>2025-03-26</th>\n",
       "      <td>5712.200195</td>\n",
       "      <td>3368.697021</td>\n",
       "      <td>8689.599609</td>\n",
       "      <td>39058.0</td>\n",
       "    </tr>\n",
       "    <tr>\n",
       "      <th>2025-03-27</th>\n",
       "      <td>5693.310059</td>\n",
       "      <td>3373.749023</td>\n",
       "      <td>8666.099609</td>\n",
       "      <td>39099.0</td>\n",
       "    </tr>\n",
       "    <tr>\n",
       "      <th>2025-03-28</th>\n",
       "      <td>5580.939941</td>\n",
       "      <td>3351.306885</td>\n",
       "      <td>8658.900391</td>\n",
       "      <td>38739.0</td>\n",
       "    </tr>\n",
       "  </tbody>\n",
       "</table>\n",
       "<p>7108 rows × 4 columns</p>\n",
       "</div>"
      ],
      "text/plain": [
       "                 S&P500         SSEC      FTSE100  FTSEMIB\n",
       "1997-12-31   970.429993  1194.102051  5135.500000  24402.0\n",
       "1998-01-01   970.429993  1194.102051  5135.500000  24402.0\n",
       "1998-01-02   975.039978  1194.102051  5193.500000  24914.0\n",
       "1998-01-05   977.070007  1220.473022  5262.500000  25734.0\n",
       "1998-01-06   966.580017  1233.619995  5264.399902  25734.0\n",
       "...                 ...          ...          ...      ...\n",
       "2025-03-24  5767.569824  3370.028076  8638.000000  38973.0\n",
       "2025-03-25  5776.649902  3369.976074  8663.799805  39385.0\n",
       "2025-03-26  5712.200195  3368.697021  8689.599609  39058.0\n",
       "2025-03-27  5693.310059  3373.749023  8666.099609  39099.0\n",
       "2025-03-28  5580.939941  3351.306885  8658.900391  38739.0\n",
       "\n",
       "[7108 rows x 4 columns]"
      ]
     },
     "execution_count": 32,
     "metadata": {},
     "output_type": "execute_result"
    }
   ],
   "source": [
    "full_sample"
   ]
  },
  {
   "cell_type": "code",
   "execution_count": 4,
   "metadata": {},
   "outputs": [
    {
     "data": {
      "text/plain": [
       "np.float64(0.542149715209296)"
      ]
     },
     "execution_count": 4,
     "metadata": {},
     "output_type": "execute_result"
    }
   ],
   "source": [
    "HIS = HurstIndexSolver()\n",
    "\n",
    "test = ftse100.pct_change().dropna().to_numpy()[:1000]\n",
    "\n",
    "HIS.EstHurstAggregateVariance(test, minimal=10, method=\"L2\")"
   ]
  },
  {
   "cell_type": "markdown",
   "metadata": {},
   "source": [
    "## SandBox"
   ]
  },
  {
   "cell_type": "code",
   "execution_count": 5,
   "metadata": {},
   "outputs": [
    {
     "data": {
      "image/png": "[encoded data removed]",
      "text/plain": [
       "<Figure size 1200x800 with 4 Axes>"
      ]
     },
     "metadata": {},
     "output_type": "display_data"
    }
   ],
   "source": [
    "import numpy as np\n",
    "import math\n",
    "import pandas as pd\n",
    "from matplotlib import pyplot as plt\n",
    "\n",
    "def get_hurst_exponent(self, time_series):\n",
    "    \"\"\"Returns the Hurst Exponent of the time series\"\"\"\n",
    "    lags = range(2, self.k)\n",
    "    # variances of the lagged differences\n",
    "    tau = [np.std(np.subtract(time_series[lag:], time_series[:-lag])) for lag in lags]\n",
    "    # calculate the slope of the log plot -> the Hurst Exponent\n",
    "    reg = np.polyfit(np.log(lags), np.log(tau), 1)\n",
    "    return reg[0]\n",
    "\n",
    "# class HurstCalculator:\n",
    "#     def __init__(self, k=10, window=250):\n",
    "#         self.k = k\n",
    "#         self.window = window\n",
    "    \n",
    "#     def get_hurst_exponent(self, time_series):\n",
    "#         \"\"\"Returns the Hurst Exponent of the time series\"\"\"\n",
    "#         lags = range(2, self.k)\n",
    "#         # variances of the lagged differences\n",
    "#         tau = [np.std(np.subtract(time_series[lag:], time_series[:-lag])) for lag in lags]\n",
    "#         # calculate the slope of the log plot -> the Hurst Exponent\n",
    "#         reg = np.polyfit(np.log(lags), np.log(tau), 1)\n",
    "#         return reg[0]\n",
    "    \n",
    "#     def rolling_hurst(self, prices: pd.Series) -> pd.Series:\n",
    "#         \"\"\"\n",
    "#         Calcule l'exposant de Hurst en appliquant une fenêtre glissante sur les rendements logarithmiques.\n",
    "        \n",
    "#         Paramètres:\n",
    "#             prices: pd.Series, série de prix indexée par date.\n",
    "        \n",
    "#         Retourne:\n",
    "#             pd.Series des exposants de Hurst, indexée par la date correspondant à la fin de chaque fenêtre.\n",
    "#         \"\"\"\n",
    "#         # Calcul des rendements logarithmiques et élimination de la première valeur NaN\n",
    "#         log_prices = np.log(prices)\n",
    "#         hurst_values = []\n",
    "#         index_list = []\n",
    "        \n",
    "#         # Parcourir les fenêtres glissantes\n",
    "#         for i in range(len(log_prices) - self.window + 1):\n",
    "#             window_data = log_prices.iloc[i:i+self.window].values\n",
    "#             h = self.get_hurst_exponent(window_data)\n",
    "#             hurst_values.append(h)\n",
    "#             # L'index associé correspond à la date du dernier élément de la fenêtre\n",
    "#             index_list.append(log_prices.index[i+self.window - 1])\n",
    "        \n",
    "#         return pd.Series(hurst_values, index=index_list)\n",
    "    \n",
    "#     def calculate_inefficiency(self, prices: pd.Series) -> pd.Series:\n",
    "#         \"\"\"\n",
    "#         Calcule l'inefficience de marché en soustrayant l'exposant de Hurst à 0.5.\n",
    "        \n",
    "#         Paramètres:\n",
    "#             prices: pd.Series, série de prix indexée par date.\n",
    "        \n",
    "#         Retourne:\n",
    "#             pd.Series des inefficiences, indexée par la date correspondant à la fin de chaque fenêtre.\n",
    "#         \"\"\"\n",
    "#         hurst_series = self.rolling_hurst(prices)\n",
    "#         inefficiency_series = 0.5 - hurst_series\n",
    "#         return inefficiency_series\n",
    "\n",
    "import numpy as np\n",
    "import pandas as pd\n",
    "import statsmodels.api as sm\n",
    "from scipy.linalg import solve\n",
    "from typing import Tuple\n",
    "from scipy.stats import linregress\n",
    "\n",
    "class HurstCalculator:\n",
    "    def __init__(self, k: int = 10, window: int = 250, method: str = 'classic'):\n",
    "        \"\"\"\n",
    "        Initialize the Hurst Calculator\n",
    "        \n",
    "        Parameters:\n",
    "            k: Number of lags to use\n",
    "            window: Size of rolling window\n",
    "            method: 'classic' or 'penalized' regression approach\n",
    "        \"\"\"\n",
    "        self.k = k\n",
    "        self.window = window\n",
    "        self.method = method\n",
    "        self.HIS = HurstIndexSolver()\n",
    "\n",
    "    def get_rs_hurst(self, log_returns):\n",
    "        \"\"\"\n",
    "        Calculates the Hurst Exponent using the Rescaled Range (R/S) analysis method.\n",
    "        \"\"\"\n",
    "        # Compute log returns\n",
    "        #log_returns = np.diff(np.log(price_series))\n",
    "        \n",
    "        # Create an array of lag values\n",
    "        lags = range(2, self.k)\n",
    "        \n",
    "        # Calculate the array of the variances of the lagged differences\n",
    "        tau = [np.sqrt(np.std(np.subtract(log_returns[lag:], log_returns[:-lag]))) for lag in lags]\n",
    "        \n",
    "        # Use a linear fit to estimate the Hurst Exponent\n",
    "        poly = np.polyfit(np.log(lags), np.log(tau), 1)\n",
    "        \n",
    "        # The Hurst exponent is the slope of the linear fit\n",
    "        hurst_exponent = poly[0]*2.0\n",
    "        \n",
    "        # The fractal dimension is related to the Hurst exponent\n",
    "        fractal_dimension = 2 - hurst_exponent\n",
    "        \n",
    "        return hurst_exponent, fractal_dimension \n",
    "    \n",
    "    def estimate_hurst(self, prix: np.ndarray, max_tau: int = 100, plot: bool = False) -> float:\n",
    "        \"\"\"\n",
    "        Estime l'exposant de Hurst à partir d'une série de prix.\n",
    "\n",
    "        Parameters:\n",
    "            log_prix (np.ndarray): Série de prix.\n",
    "            max_tau (int): Nombre maximum de décalages (tau) à considérer.\n",
    "            plot (bool): Si True, affiche la régression log-log.\n",
    "\n",
    "        Returns:\n",
    "            float: L'exposant de Hurst estimé.\n",
    "        \"\"\"\n",
    "        log_prix = np.log(prix)\n",
    "        \n",
    "        # Calcul des sigmas pour chaque tau\n",
    "        taus = np.arange(1, max_tau)\n",
    "        sigmas = [np.std(np.subtract(log_prix[lag:], log_prix[:-lag])) for lag in taus]\n",
    "\n",
    "        # Régression linéaire sur les valeurs log-log\n",
    "        log_echelles = np.log(taus)\n",
    "        log_sigma_t = np.log(sigmas)\n",
    "        slope, intercept, _, _, _ = linregress(log_echelles, log_sigma_t)\n",
    "        return slope\n",
    "\n",
    "    def get_matlab_hurst(self, Signal):\n",
    "        \"\"\"\n",
    "        Calculate the Hurst exponent using the Aggregated Variance Method.\n",
    "        \n",
    "        Parameters\n",
    "        ----------\n",
    "        Signal : array-like\n",
    "            1D time series.\n",
    "            \n",
    "        Returns\n",
    "        -------\n",
    "        hur : float\n",
    "            Estimated Hurst exponent.\n",
    "            - hur <= 0.5: the time series is noise.\n",
    "            - hur > 0.5: the time series exhibits long-term memory (a trend is present).\n",
    "        \"\"\"\n",
    "        # Ensure the signal is a 1D numpy array\n",
    "        Signal = np.asarray(Signal).flatten()\n",
    "        N = len(Signal)\n",
    "        \n",
    "        var_list = []\n",
    "        m_list = []\n",
    "        \n",
    "        m = 2\n",
    "        while m <= N/2:\n",
    "            # Only use m that divides N exactly\n",
    "            if N % m != 0:\n",
    "                m += 1\n",
    "                continue\n",
    "            k = N // m  # number of segments\n",
    "            \n",
    "            means = np.zeros(k)\n",
    "            for i in range(k):\n",
    "                segment = Signal[i*m:(i+1)*m]\n",
    "                means[i] = np.mean(segment)\n",
    "            \n",
    "            # Using sample variance (ddof=1) to mimic MATLAB's var behavior\n",
    "            var_list.append(np.var(means, ddof=1))\n",
    "            m_list.append(m)\n",
    "            m += 1\n",
    "\n",
    "        M = np.array(m_list)\n",
    "        Var = np.array(var_list)\n",
    "        \n",
    "        # Construct the design matrix for linear regression:\n",
    "        # log(Var) = hX[0] * log(M) + hX[1]\n",
    "        A = np.column_stack((np.log(M), np.ones(len(M))))\n",
    "        logVar = np.log(Var)\n",
    "        \n",
    "        # Solve the least-squares problem\n",
    "        hX, _, _, _ = np.linalg.lstsq(A, logVar, rcond=None)\n",
    "        \n",
    "        # Compute the Hurst exponent:\n",
    "        # hur = hX[0]/2 + 1\n",
    "        hur = hX[0] / 2 + 1\n",
    "        return hur\n",
    "        \n",
    "    def get_penalized_hurst(self, time_series: np.ndarray) -> float:\n",
    "        \"\"\"\n",
    "        Calculate Hurst exponent using penalized regression approach\n",
    "        \n",
    "        Parameters:\n",
    "            time_series: Input time series\n",
    "            \n",
    "        Returns:\n",
    "            Estimated Hurst exponent\n",
    "        \"\"\"\n",
    "        lags = range(2, self.k)\n",
    "        # Calculate variances of lagged differences\n",
    "        tau = [np.std(np.subtract(time_series[lag:], time_series[:-lag])) for lag in lags]\n",
    "        \n",
    "        # Prepare design matrix X\n",
    "        log_lags = np.log(lags)\n",
    "        X = sm.add_constant(log_lags)\n",
    "        y = np.log(tau)\n",
    "        \n",
    "        # Define penalty matrix S (second-order difference penalty) @13\n",
    "        n = X.shape[1]\n",
    "        S = np.zeros((n, n))\n",
    "        S[1,1] = 1  # Penalty only on slope parameter\n",
    "        \n",
    "        # Estimate optimal smoothing parameter using GCV @14\n",
    "        def gcv(lambda_: float) -> float:\n",
    "            # Penalized least squares estimation\n",
    "            beta_hat = solve(X.T @ X + lambda_ * S, X.T @ y)\n",
    "            fitted = X @ beta_hat\n",
    "            n = len(y)\n",
    "            A = X @ solve(X.T @ X + lambda_ * S, X.T)\n",
    "            df = np.trace(A)\n",
    "            residuals = y - fitted\n",
    "            gcv = n * np.sum(residuals**2) / (n - df)**2\n",
    "            return gcv\n",
    "        \n",
    "        # Find optimal lambda using grid search\n",
    "        lambdas = np.logspace(-3, 3, 100)\n",
    "        gcv_scores = [gcv(lambda_) for lambda_ in lambdas]\n",
    "        optimal_lambda = lambdas[np.argmin(gcv_scores)]\n",
    "        \n",
    "        # Final estimation with optimal lambda @13\n",
    "        beta_hat = solve(X.T @ X + optimal_lambda * S, X.T @ y)\n",
    "        return beta_hat[1]  # Return slope coefficient\n",
    "    \n",
    "    def get_classic_hurst(self, time_series: np.ndarray) -> float:\n",
    "        \"\"\"\n",
    "        Calculate Hurst exponent using classic regression approach\n",
    "        \n",
    "        Parameters:\n",
    "            time_series: Input time series\n",
    "            \n",
    "        Returns:\n",
    "            Estimated Hurst exponent\n",
    "        \"\"\"\n",
    "        lags = range(2, self.k)\n",
    "        tau = [np.std(np.subtract(time_series[lag:], time_series[:-lag])) for lag in lags]\n",
    "        return np.polyfit(np.log(lags), np.log(tau), 1)[0]\n",
    "\n",
    "    def rolling_hurst(self, prices: pd.Series) -> pd.Series:\n",
    "        \"\"\"\n",
    "        Calculate rolling Hurst exponent using specified method\n",
    "        \n",
    "        Parameters:\n",
    "            prices: Price series indexed by date\n",
    "            \n",
    "        Returns:\n",
    "            Series of Hurst exponents\n",
    "        \"\"\"\n",
    "        log_prices = np.log(prices)\n",
    "        diff_prices = np.diff(log_prices)\n",
    "        hurst_values = []\n",
    "        index_list = []\n",
    "        \n",
    "        for i in range(len(log_prices) - self.window + 1):\n",
    "            window_data = log_prices.iloc[i:i+self.window].values\n",
    "            window_returns = diff_prices[i:i+self.window]\n",
    "\n",
    "            \n",
    "            if self.method == 'penalized':\n",
    "                h = self.get_penalized_hurst(window_data)\n",
    "            elif self.method == 'matlab':\n",
    "                h = self.get_matlab_hurst(window_data)\n",
    "            elif self.method == 'rs':\n",
    "                h = self.get_rs_hurst(window_returns)[0]\n",
    "            elif self.method == 'HIS':\n",
    "                h = self.HIS.EstHurstAggregateVariance(window_data, minimal=self.k, method=\"L2\")\n",
    "            elif self.method == 'thibz':\n",
    "                h = self.estimate_hurst(window_data, max_tau=self.k)\n",
    "            else:\n",
    "                h = self.get_classic_hurst(window_data)\n",
    "\n",
    "                \n",
    "            hurst_values.append(h)\n",
    "            index_list.append(log_prices.index[i+self.window - 1])\n",
    "            \n",
    "        return pd.Series(hurst_values, index=index_list)\n",
    "\n",
    "    def calculate_inefficiency(self, prices: pd.Series) -> Tuple[pd.Series, pd.Series]:\n",
    "        \"\"\"\n",
    "        Calculate market inefficiency and volatility measures\n",
    "        \n",
    "        Parameters:\n",
    "            prices: Price series indexed by date\n",
    "            \n",
    "        Returns:\n",
    "            Tuple of (inefficiency series, conditional volatility series)\n",
    "        \"\"\"\n",
    "        # Calculate Hurst-based inefficiency @13, @14\n",
    "        hurst_series = self.rolling_hurst(prices)\n",
    "        inefficiency_series = 0.5 - hurst_series\n",
    "        \n",
    "        # Calculate conditional volatility using H-GARCH approach @7\n",
    "        log_returns = np.log(prices/prices.shift(1)).dropna()\n",
    "        garch_model = sm.regression.linear_model.OLS(\n",
    "            inefficiency_series,\n",
    "            sm.add_constant(log_returns[inefficiency_series.index])\n",
    "        ).fit()\n",
    "        \n",
    "        return inefficiency_series, pd.Series(garch_model.resid**2, index=inefficiency_series.index)\n",
    "    \n",
    "class InefficiencyVisualizer:\n",
    "    def __init__(self, hurst_calculator, datas: dict, dates: dict):\n",
    "        \"\"\"\n",
    "        Paramètres:\n",
    "            hurst_calculator: instance de HurstCalculator\n",
    "            datas: dict, clé = nom de la série, valeur = pd.Series de prix indexée par date\n",
    "            dates: dict, clé = date de début (string ou datetime), valeur = date de fin (string ou datetime)\n",
    "        \"\"\"\n",
    "        self.hurst_calculator = hurst_calculator\n",
    "        self.datas = datas\n",
    "        self.dates = dates\n",
    "        \n",
    "    def plot_inefficiencies(self):\n",
    "        \"\"\"\n",
    "        Pour chaque période définie dans self.dates, filtre chaque série de prix,\n",
    "        calcule l'inefficience via HurstCalculator et affiche les résultats dans un subplot\n",
    "        disposé sur deux colonnes.\n",
    "        \"\"\"\n",
    "        # Pour chaque période à explorer\n",
    "        for start_date, end_date in self.dates.items():\n",
    "            # Filtrer chaque série sur la période et compter le nombre de séries\n",
    "            filtered_datas = {}\n",
    "            for label, series in self.datas.items():\n",
    "                # Calculate the adjusted start date by subtracting window size in business days\n",
    "                adjusted_start = pd.to_datetime(start_date) - pd.tseries.offsets.BDay(self.hurst_calculator.window)\n",
    "                filtered_series = series.loc[adjusted_start:end_date]\n",
    "                # Vérifier que la série n'est pas vide\n",
    "                if not filtered_series.empty:\n",
    "                    filtered_datas[label] = filtered_series\n",
    "            n_series = len(filtered_datas)\n",
    "            if n_series == 0:\n",
    "                print(f\"Aucune donnée pour la période {start_date} à {end_date}.\")\n",
    "                continue\n",
    "\n",
    "            # Calcul du nombre de lignes pour 2 colonnes\n",
    "            n_cols = 2\n",
    "            n_rows = math.ceil(n_series / n_cols)\n",
    "            \n",
    "            # Création de la figure et des axes\n",
    "            fig, axes = plt.subplots(n_rows, n_cols, figsize=(n_cols*6, n_rows*4), squeeze=False)\n",
    "            axes = axes.flatten()\n",
    "            \n",
    "            # Pour chaque série filtrée, calcul et tracé de l'inefficience\n",
    "            for idx, (label, series) in enumerate(filtered_datas.items()):\n",
    "                ineff_series, _ = self.hurst_calculator.calculate_inefficiency(series)\n",
    "                ax = axes[idx]\n",
    "                ax.plot(ineff_series.index, ineff_series.values, label=label)\n",
    "                ax.set_title(f\"{label}\\n({start_date} à {end_date})\")\n",
    "                ax.set_xlabel(\"Date\")\n",
    "                ax.set_ylabel(\"Inefficience\")\n",
    "                ax.legend()\n",
    "            \n",
    "            # Supprimer les axes vides si nécessaire\n",
    "            for j in range(idx + 1, len(axes)):\n",
    "                fig.delaxes(axes[j])\n",
    "            \n",
    "            fig.suptitle(f\"Inefficience de marché du {start_date} au {end_date}\", fontsize=16)\n",
    "            plt.tight_layout(rect=[0, 0.03, 1, 0.95])\n",
    "            plt.show()\n",
    "\n",
    "# Dictionnaire des périodes à explorer\n",
    "dates = {\n",
    "    '2007-01-01': '2009-06-01'\n",
    "}\n",
    "\n",
    "# Dictionnaire des séries (assurez-vous que ftse100, ftsemib, sp500, ssec sont des pd.Series)\n",
    "datas = {\n",
    "    's&p500': sp500,\n",
    "    'ssec': ssec,\n",
    "    'ftse100': ftse100,\n",
    "    'ftsemib': ftsemib\n",
    "}\n",
    "\n",
    "# Création de l'instance de HurstCalculator avec vos paramètres\n",
    "hurst_calc = HurstCalculator(k=5, window=250, method=\"thibz\")\n",
    "\n",
    "# Calcul des inefficiences et de la volatilité pour chaque série\n",
    "\n",
    "\n",
    "# Création de l'instance de visualisation et affichage\n",
    "visualizer = InefficiencyVisualizer(hurst_calculator=hurst_calc, datas=datas, dates=dates)\n",
    "visualizer.plot_inefficiencies()"
   ]
  },
  {
   "cell_type": "code",
   "execution_count": null,
   "metadata": {},
   "outputs": [],
   "source": [
    "def custom_hust(ts: np.array, show: bool = False):\n",
    "    \n",
    "\n",
    "    stds = []\n",
    "    sizes = []\n",
    "\n",
    "    for n in range(3, len(ts)):\n",
    "        temp = []\n",
    "        for i in range(0, len(ts) - n):\n",
    "            p = ts[i:i+n]\n",
    "            print('p', p)\n",
    "            pp = np.subtract(p[1:], p[:-1])\n",
    "            print('pp', pp)\n",
    "\n",
    "            temp.append(np.std(pp))\n",
    "        stds.append(np.mean(temp))\n",
    "        sizes.append(n)\n",
    "\n",
    "    print(stds)\n",
    "    print(sizes)\n",
    "\n",
    "    # linear fit to double-log graph\n",
    "    m = np.polyfit(np.log10(sizes), np.log10(stds), 1)\n",
    "    # hurst exponent is the slope of the line of best fit\n",
    "    hurst = m[0]\n",
    "    if show:\n",
    "        import matplotlib.pyplot as plt\n",
    "        plt.plot(np.log10(sizes), np.log10(stds), 'o')\n",
    "        plt.plot(np.log10(sizes), m[0] * np.log10(stds) + m[1])\n",
    "        plt.title('Hurst Exponent')\n",
    "        plt.xlabel('log(lags)')\n",
    "        plt.ylabel('log(tau)')\n",
    "        plt.show()\n",
    "    return hurst\n",
    "\n",
    "\n",
    "\n",
    "ts_test = ftse100.iloc[:100].values\n",
    "print(ts_test)\n",
    "\n",
    "custom_hust(ts_test, show=True)"
   ]
  },
  {
   "cell_type": "markdown",
   "metadata": {},
   "source": [
    "---"
   ]
  },
  {
   "cell_type": "code",
   "execution_count": 26,
   "metadata": {},
   "outputs": [],
   "source": [
    "import numpy as np\n",
    "import matplotlib.pyplot as plt\n",
    "from scipy.stats import linregress"
   ]
  },
  {
   "cell_type": "code",
   "execution_count": 118,
   "metadata": {},
   "outputs": [],
   "source": [
    "def estimate_hurst(prix: np.ndarray, max_tau: int = 100, plot: bool = False) -> float:\n",
    "    \"\"\"\n",
    "    Estime l'exposant de Hurst à partir d'une série de prix.\n",
    "\n",
    "    Parameters:\n",
    "        log_prix (np.ndarray): Série de prix.\n",
    "        max_tau (int): Nombre maximum de décalages (tau) à considérer.\n",
    "        plot (bool): Si True, affiche la régression log-log.\n",
    "\n",
    "    Returns:\n",
    "        float: L'exposant de Hurst estimé.\n",
    "    \"\"\"\n",
    "    log_prix = np.log(prix)\n",
    "    \n",
    "    # Calcul des sigmas pour chaque tau\n",
    "    taus = np.arange(1, max_tau)\n",
    "    sigmas = [np.std(np.subtract(log_prix[lag:], log_prix[:-lag])) for lag in taus]\n",
    "\n",
    "    print(sigmas)\n",
    "\n",
    "    # Régression linéaire sur les valeurs log-log\n",
    "    log_echelles = np.log(taus)\n",
    "    log_sigma_t = np.log(sigmas)\n",
    "    slope, intercept, _, _, _ = linregress(log_echelles, log_sigma_t)\n",
    "\n",
    "    # Affichage des résultats si demandé\n",
    "    if plot:\n",
    "        plt.figure(figsize=(8, 6))\n",
    "        plt.scatter(log_echelles, log_sigma_t, label=\"Données réelles\")\n",
    "        plt.plot(log_echelles, slope * log_echelles + intercept, color='red', \n",
    "                 label=f\"Régression linéaire\\nH = {slope:.3f}\")\n",
    "        plt.xlabel(\"log(échelle)\")\n",
    "        plt.ylabel(\"log(σ)\")\n",
    "        plt.legend()\n",
    "        plt.title(f\"Estimation de l'exposant de Hurst\")\n",
    "        plt.grid()\n",
    "        plt.show()\n",
    "\n",
    "    # Retourne l'exposant de Hurst\n",
    "    return slope"
   ]
  },
  {
   "cell_type": "code",
   "execution_count": 127,
   "metadata": {},
   "outputs": [
    {
     "name": "stdout",
     "output_type": "stream",
     "text": [
      "[np.float64(0.008406814250912902), np.float64(0.011663226147499105), np.float64(0.013992176845895035), np.float64(0.016000046313537908), np.float64(0.018554356711811618), np.float64(0.020875105595379344), np.float64(0.02220629686262407), np.float64(0.023682571549029446), np.float64(0.025054677884985294)]\n"
     ]
    },
    {
     "data": {
      "image/png": "[encoded data removed]",
      "text/plain": [
       "<Figure size 800x600 with 1 Axes>"
      ]
     },
     "metadata": {},
     "output_type": "display_data"
    },
    {
     "name": "stdout",
     "output_type": "stream",
     "text": [
      "0.5054781047352526\n"
     ]
    }
   ],
   "source": [
    "global_hurst = estimate_hurst(sp500.iloc[:100].values, max_tau=10, plot=True)\n",
    "print(global_hurst)"
   ]
  },
  {
   "cell_type": "code",
   "execution_count": 74,
   "metadata": {},
   "outputs": [],
   "source": [
    "def rolling_hurst_estimation(prices: pd.Series, window_length: int, max_tau: int = 100, plot: bool = True) -> np.ndarray:\n",
    "    \"\"\"\n",
    "    Estime l'exposant de Hurst sur une série de prix en utilisant une fenêtre glissante.\n",
    "\n",
    "    Parameters:\n",
    "        prices (np.ndarray): Série de prix (logarithmiques ou non).\n",
    "        window_length (int): Taille de la fenêtre glissante.\n",
    "        max_tau (int): Nombre maximum de décalages (tau) pour l'estimation de Hurst.\n",
    "        plot (bool): Si True, trace la série de Hurst estimée.\n",
    "\n",
    "    Returns:\n",
    "        np.ndarray: Série des exposants de Hurst estimés.\n",
    "    \"\"\"\n",
    "    dates = prices.index[window_length*2:]\n",
    "    prices = prices.values\n",
    "\n",
    "    hurst_series = []\n",
    "    for i in range(window_length, len(prices) - window_length):\n",
    "        window = prices[i - window_length:i]\n",
    "        hurst = estimate_hurst(window, max_tau=max_tau, plot=False)\n",
    "        hurst_series.append(hurst)\n",
    "\n",
    "    hurst_series = np.array(hurst_series)\n",
    "\n",
    "    if plot:\n",
    "        plt.figure(figsize=(10, 6))\n",
    "        plt.plot(dates, hurst_series, label=\"Exposant de Hurst (rolling)\")\n",
    "        plt.xlabel(\"Dates\")\n",
    "        plt.ylabel(\"Exposant de Hurst\")\n",
    "        plt.title(f\"Exposant de Hurst estimé avec une fenêtre de taille {window_length}\")\n",
    "        plt.legend()\n",
    "        plt.grid()\n",
    "        plt.show()\n",
    "\n",
    "    return hurst_series"
   ]
  },
  {
   "cell_type": "code",
   "execution_count": 75,
   "metadata": {},
   "outputs": [
    {
     "data": {
      "image/png": "[encoded data removed]",
      "text/plain": [
       "<Figure size 1000x600 with 1 Axes>"
      ]
     },
     "metadata": {},
     "output_type": "display_data"
    },
    {
     "data": {
      "text/plain": [
       "array([0.48927057, 0.48903225, 0.48883976, ..., 0.45814688, 0.45735441,\n",
       "       0.45651498], shape=(69418,))"
      ]
     },
     "execution_count": 75,
     "metadata": {},
     "output_type": "execute_result"
    }
   ],
   "source": [
    "rolling_hurst_estimation(full_sample, window_length=500, max_tau=25)"
   ]
  }
 ],
 "metadata": {
  "kernelspec": {
   "display_name": ".venv",
   "language": "python",
   "name": "python3"
  },
  "language_info": {
   "codemirror_mode": {
    "name": "ipython",
    "version": 3
   },
   "file_extension": ".py",
   "mimetype": "text/x-python",
   "name": "python",
   "nbconvert_exporter": "python",
   "pygments_lexer": "ipython3",
   "version": "3.11.6"
  }
 },
 "nbformat": 4,
 "nbformat_minor": 2
}
