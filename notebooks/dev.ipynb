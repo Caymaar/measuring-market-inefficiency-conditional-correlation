{
 "cells": [
  {
   "cell_type": "code",
   "execution_count": null,
   "metadata": {},
   "outputs": [],
   "source": [
    "import pandas as pd\n",
    "import numpy as np\n",
    "import sys\n",
    "sys.path.append('..')\n",
    "from src.utils import get_config, get_data\n",
    "\n",
    "config = get_config()"
   ]
  },
  {
   "cell_type": "code",
   "execution_count": 3,
   "metadata": {},
   "outputs": [],
   "source": [
    "ftse100 = get_data('ftse100')\n",
    "ftsemib = get_data('ftsemib')\n",
    "sp500 = get_data('s&p500')\n",
    "ssec = get_data('ssec')"
   ]
  },
  {
   "cell_type": "markdown",
   "metadata": {},
   "source": [
    "## SandBox"
   ]
  },
  {
   "cell_type": "code",
   "execution_count": 172,
   "metadata": {},
   "outputs": [
    {
     "name": "stderr",
     "output_type": "stream",
     "text": [
      "/var/folders/vk/z0p4r5z97d99dp7mpbt9yd1w0000gn/T/ipykernel_75230/3116201202.py:25: RuntimeWarning: divide by zero encountered in log10\n",
      "  log_vol = np.log10(avg_vol)\n"
     ]
    },
    {
     "ename": "ValueError",
     "evalue": "Cannot calculate a linear regression if all x values are identical",
     "output_type": "error",
     "traceback": [
      "\u001b[31m---------------------------------------------------------------------------\u001b[39m",
      "\u001b[31mValueError\u001b[39m                                Traceback (most recent call last)",
      "\u001b[32m/var/folders/vk/z0p4r5z97d99dp7mpbt9yd1w0000gn/T/ipykernel_75230/3116201202.py\u001b[39m in \u001b[36m?\u001b[39m\u001b[34m()\u001b[39m\n\u001b[32m     37\u001b[39m \u001b[38;5;66;03m# Charger les données\u001b[39;00m\n\u001b[32m     38\u001b[39m prices = get_data(\u001b[33m's&p500'\u001b[39m)\n\u001b[32m     39\u001b[39m \n\u001b[32m     40\u001b[39m \u001b[38;5;66;03m# Calculer les indices de Hurst et l'inefficacité\u001b[39;00m\n\u001b[32m---> \u001b[39m\u001b[32m41\u001b[39m hurst_values, ineff_values = calculate_hurst(prices)\n\u001b[32m     42\u001b[39m \n\u001b[32m     43\u001b[39m \u001b[38;5;66;03m# Créer des séries temporelles\u001b[39;00m\n\u001b[32m     44\u001b[39m hurst_series = pd.Series(hurst_values, index=prices[\u001b[32m250\u001b[39m:].index)\n",
      "\u001b[32m/var/folders/vk/z0p4r5z97d99dp7mpbt9yd1w0000gn/T/ipykernel_75230/3116201202.py\u001b[39m in \u001b[36m?\u001b[39m\u001b[34m(prices, window_size, sub_window)\u001b[39m\n\u001b[32m     25\u001b[39m         log_vol = np.log10(avg_vol)\n\u001b[32m     26\u001b[39m \n\u001b[32m     27\u001b[39m         slope = \u001b[32m0.0\u001b[39m\n\u001b[32m     28\u001b[39m         \u001b[38;5;28;01mif\u001b[39;00m len(vol) > \u001b[32m1\u001b[39m:\n\u001b[32m---> \u001b[39m\u001b[32m29\u001b[39m             slope, _, _, _, _ = linregress([log_size]*len(vol), [log_vol]*len(vol))\n\u001b[32m     30\u001b[39m \n\u001b[32m     31\u001b[39m         hurst = slope\n\u001b[32m     32\u001b[39m         hurst_values.append(hurst)\n",
      "\u001b[32m~/Documents/Cours/Master Dauphine/Paper GQ/measuring-market-inefficiency-conditional-correlation/.venv/lib/python3.11/site-packages/scipy/stats/_stats_py.py\u001b[39m in \u001b[36m?\u001b[39m\u001b[34m(x, y, alternative)\u001b[39m\n\u001b[32m  10701\u001b[39m     \u001b[38;5;28;01mif\u001b[39;00m x.size == \u001b[32m0\u001b[39m \u001b[38;5;28;01mor\u001b[39;00m y.size == \u001b[32m0\u001b[39m:\n\u001b[32m  10702\u001b[39m         \u001b[38;5;28;01mraise\u001b[39;00m ValueError(\u001b[33m\"Inputs must not be empty.\"\u001b[39m)\n\u001b[32m  10703\u001b[39m \n\u001b[32m  10704\u001b[39m     \u001b[38;5;28;01mif\u001b[39;00m np.amax(x) == np.amin(x) \u001b[38;5;28;01mand\u001b[39;00m len(x) > \u001b[32m1\u001b[39m:\n\u001b[32m> \u001b[39m\u001b[32m10705\u001b[39m         raise ValueError(\"Cannot calculate a linear regression \"\n\u001b[32m  10706\u001b[39m                          \"if all x values are identical\")\n\u001b[32m  10707\u001b[39m \n\u001b[32m  10708\u001b[39m     n = len(x)\n",
      "\u001b[31mValueError\u001b[39m: Cannot calculate a linear regression if all x values are identical"
     ]
    }
   ],
   "source": [
    "import numpy as np\n",
    "import pandas as pd\n",
    "from scipy.stats import linregress\n",
    "\n",
    "def calculate_hurst(prices, window_size=250, sub_window=10):\n",
    "    returns = np.log(prices[1:]) - np.log(prices[:-1])\n",
    "    \n",
    "    hurst_values = []\n",
    "    ineff_values = []\n",
    "    \n",
    "    for i in range(len(returns) - window_size):\n",
    "        window = returns[i:i+window_size]\n",
    "        vol = []\n",
    "        for j in range(0, window_size, sub_window):\n",
    "            if j + sub_window > len(window):\n",
    "                break\n",
    "            sub_window_data = window[j:j+sub_window]\n",
    "            vol.append(np.std(sub_window_data))\n",
    "        if not vol:\n",
    "            avg_vol = 0\n",
    "        else:\n",
    "            avg_vol = np.mean(vol)\n",
    "        \n",
    "        log_size = np.log10(sub_window)\n",
    "        log_vol = np.log10(avg_vol)\n",
    "        \n",
    "        slope = 0.0\n",
    "        if len(vol) > 1:\n",
    "            slope, _, _, _, _ = linregress([log_size]*len(vol), [log_vol]*len(vol))\n",
    "        \n",
    "        hurst = slope\n",
    "        hurst_values.append(hurst)\n",
    "        ineff_values.append(0.5 - hurst)\n",
    "    \n",
    "    return hurst_values, ineff_values\n",
    "\n",
    "# Charger les données\n",
    "prices = get_data('s&p500')\n",
    "\n",
    "# Calculer les indices de Hurst et l'inefficacité\n",
    "hurst_values, ineff_values = calculate_hurst(prices)\n",
    "\n",
    "# Créer des séries temporelles\n",
    "hurst_series = pd.Series(hurst_values, index=prices[250:].index)\n",
    "ineff_series = pd.Series(ineff_values, index=prices[250:].index)\n",
    "\n",
    "# Visualiser les résultats\n",
    "import matplotlib.pyplot as plt\n",
    "\n",
    "plt.figure(figsize=(10,6))\n",
    "plt.plot(hurst_series, label='Hurst Exponent')\n",
    "plt.axhline(y=0.5, color='r', linestyle='--', label='Efficient Market (H=0.5)')\n",
    "plt.title('Hurst Exponent Over Time')\n",
    "plt.xlabel('Date')\n",
    "plt.ylabel('Hurst Exponent')\n",
    "plt.legend()\n",
    "plt.show()\n",
    "\n",
    "plt.figure(figsize=(10,6))\n",
    "plt.plot(ineff_series, label='Market Inefficiency')\n",
    "plt.title('Market Inefficiency Over Time')\n",
    "plt.xlabel('Date')\n",
    "plt.ylabel('Inefficiency Measure')\n",
    "plt.legend()\n",
    "plt.show()"
   ]
  },
  {
   "cell_type": "code",
   "execution_count": 149,
   "metadata": {},
   "outputs": [
    {
     "data": {
      "text/plain": [
       "Date\n",
       "1984-12-27 00:00:00+00:00   NaN\n",
       "1984-12-28 00:00:00+00:00   NaN\n",
       "1984-12-31 00:00:00+00:00   NaN\n",
       "1985-01-02 00:00:00+00:00   NaN\n",
       "1985-01-03 00:00:00+00:00   NaN\n",
       "                             ..\n",
       "2025-03-24 00:00:00+00:00   NaN\n",
       "2025-03-25 00:00:00+00:00   NaN\n",
       "2025-03-26 00:00:00+00:00   NaN\n",
       "2025-03-27 00:00:00+00:00   NaN\n",
       "2025-03-28 00:00:00+00:00   NaN\n",
       "Length: 10168, dtype: float64"
      ]
     },
     "execution_count": 149,
     "metadata": {},
     "output_type": "execute_result"
    }
   ],
   "source": [
    "hurst_series"
   ]
  },
  {
   "cell_type": "code",
   "execution_count": 9,
   "metadata": {},
   "outputs": [],
   "source": [
    "import numpy as np\n",
    "import pandas as pd\n",
    "\n",
    "def compute_hurst(prices, k=10):\n",
    "    \"\"\"\n",
    "    Calculate time-varying Hurst exponent using variance method\n",
    "    Parameters:\n",
    "        prices: array-like, price series\n",
    "        k: int, window size (default=10 days as per paper)\n",
    "    Returns:\n",
    "        array of Hurst exponents\n",
    "    \"\"\"\n",
    "    # Calculate log returns\n",
    "    returns = np.log(prices[1:]) - np.log(prices[:-1])\n",
    "    \n",
    "    # Initialize arrays\n",
    "    hurst_series = []\n",
    "    \n",
    "    for t in range(len(returns) - k):\n",
    "        window = returns[t:t+k]\n",
    "        # Calculate variances at different scales\n",
    "        scales = range(2, k//2)\n",
    "        variances = []\n",
    "        scales_log = []\n",
    "        \n",
    "        for scale in scales:\n",
    "            # Subdivide window into scale-sized segments\n",
    "            segments = len(window) // scale\n",
    "            if segments > 0:\n",
    "                variance = np.std([np.std(window[i:i+scale]) \n",
    "                                 for i in range(0, len(window), scale)])\n",
    "                variances.append(np.log(variance))\n",
    "                scales_log.append(np.log(scale))\n",
    "        \n",
    "        if len(scales_log) > 1:\n",
    "            # Perform log-log regression\n",
    "            slope, _ = np.polyfit(scales_log, variances, 1)\n",
    "            hurst = slope  # Hurst exponent is the slope\n",
    "            hurst_series.append(hurst)\n",
    "        else:\n",
    "            hurst_series.append(np.nan)\n",
    "    \n",
    "    return np.array(hurst_series)\n",
    "\n",
    "def compute_hurst_series(prices: pd.Series, k: int = 10) -> pd.Series:\n",
    "    \"\"\"\n",
    "    Calcule l'exposant de Hurst variable dans le temps en utilisant la méthode de la variance.\n",
    "    \n",
    "    Paramètres:\n",
    "        prices: pd.Series, série de prix avec un index temporel\n",
    "        k: int, taille de la fenêtre (par défaut 10)\n",
    "        \n",
    "    Retourne:\n",
    "        pd.Series contenant l'exposant de Hurst, indexé par la date correspondant \n",
    "        à la fin de chaque fenêtre.\n",
    "    \"\"\"\n",
    "    # Calcul des rendements logarithmiques\n",
    "    log_prices = np.log(prices)\n",
    "    returns = log_prices.diff().dropna()\n",
    "    \n",
    "    hurst_values = []\n",
    "    indices = []\n",
    "    \n",
    "    # Boucle sur les fenêtres de taille k dans les rendements\n",
    "    for t in range(len(returns) - k):\n",
    "        window = returns.iloc[t:t+k].values\n",
    "        scales = range(2, k // 2)\n",
    "        variances = []\n",
    "        scales_log = []\n",
    "        \n",
    "        # Pour chaque échelle, subdiviser la fenêtre et calculer la variance des std\n",
    "        for scale in scales:\n",
    "            segments = len(window) // scale\n",
    "            if segments > 0:\n",
    "                sub_stds = [np.std(window[i:i+scale]) for i in range(0, len(window), scale)]\n",
    "                variance = np.std(sub_stds)\n",
    "                variances.append(np.log(variance))\n",
    "                scales_log.append(np.log(scale))\n",
    "        \n",
    "        # Régression log-log pour déterminer la pente (exposant de Hurst)\n",
    "        if len(scales_log) > 1:\n",
    "            slope, _ = np.polyfit(scales_log, variances, 1)\n",
    "            hurst = slope\n",
    "        else:\n",
    "            hurst = np.nan\n",
    "        \n",
    "        hurst_values.append(hurst)\n",
    "        # Utiliser le timestamp du dernier élément de la fenêtre\n",
    "        indices.append(returns.index[t+k-1])\n",
    "    \n",
    "    return pd.Series(hurst_values, index=indices)"
   ]
  },
  {
   "cell_type": "code",
   "execution_count": 166,
   "metadata": {},
   "outputs": [],
   "source": [
    "def hurst(log_prices, scales):\n",
    "    \"\"\"\n",
    "    Calculate the Hurst exponent using the variance method.\n",
    "    Parameters:\n",
    "        log_prices: array-like, log prices\n",
    "        scales: array-like, scales to compute the Hurst exponent\n",
    "    Returns:\n",
    "        float, Hurst exponent\n",
    "    \"\"\"\n",
    "    # Calculate the log returns\n",
    "    variances = []\n",
    "    for scale in scales:\n",
    "        scaled_series = np.subtract(log_prices[scale:], log_prices[:-scale])\n",
    "        variances.append(np.std(scaled_series))\n",
    "    m = np.polyfit(np.log10(scales), np.log10(variances), 1)\n",
    "    return m[0]\n",
    "import numpy as np\n",
    "import pandas as pd\n",
    "\n",
    "def compute_hurst_series(prices: pd.Series, k: int = 100) -> pd.Series:\n",
    "    \"\"\"\n",
    "    Calcule la série de l'exposant de Hurst en utilisant une fenêtre glissante de taille k.\n",
    "    \n",
    "    Paramètres:\n",
    "        prices: pd.Series, série de prix avec un index temporel.\n",
    "        k: int, taille de la fenêtre pour le calcul (par défaut 10).\n",
    "    \n",
    "    Retourne:\n",
    "        pd.Series contenant les exposants de Hurst, indexée par la date correspondant à la fin de chaque fenêtre.\n",
    "    \"\"\"\n",
    "    # Convertir les prix en logarithme\n",
    "    log_prices = np.log(prices)\n",
    "    hurst_values = []\n",
    "    indices = []\n",
    "    \n",
    "    # Définir les échelles à utiliser (par exemple de 2 à k//2 inclus)\n",
    "    scales = range(2, k // 2)\n",
    "    \n",
    "    # Calcul sur chaque fenêtre glissante\n",
    "    for i in range(len(log_prices) - k + 1):\n",
    "        window = log_prices.iloc[i:i+k].values\n",
    "        hurst_val = hurst(window, scales)\n",
    "        hurst_values.append(hurst_val)\n",
    "        # Utiliser le timestamp du dernier élément de la fenêtre\n",
    "        indices.append(log_prices.index[i+k-1])\n",
    "    \n",
    "    return pd.Series(hurst_values, index=indices)"
   ]
  },
  {
   "cell_type": "code",
   "execution_count": 171,
   "metadata": {},
   "outputs": [
    {
     "data": {
      "text/plain": [
       "<Axes: >"
      ]
     },
     "execution_count": 171,
     "metadata": {},
     "output_type": "execute_result"
    },
    {
     "data": {
      "image/png": "[encoded data removed]",
      "text/plain": [
       "<Figure size 640x480 with 1 Axes>"
      ]
     },
     "metadata": {},
     "output_type": "display_data"
    }
   ],
   "source": [
    "result = compute_hurst_series(sp500, k=10)\n",
    "result.describe()\n",
    "result.plot()"
   ]
  },
  {
   "cell_type": "code",
   "execution_count": null,
   "metadata": {},
   "outputs": [],
   "source": []
  },
  {
   "cell_type": "code",
   "execution_count": 153,
   "metadata": {},
   "outputs": [
    {
     "ename": "NameError",
     "evalue": "name 'result' is not defined",
     "output_type": "error",
     "traceback": [
      "\u001b[31m---------------------------------------------------------------------------\u001b[39m",
      "\u001b[31mNameError\u001b[39m                                 Traceback (most recent call last)",
      "\u001b[36mCell\u001b[39m\u001b[36m \u001b[39m\u001b[32mIn[153]\u001b[39m\u001b[32m, line 1\u001b[39m\n\u001b[32m----> \u001b[39m\u001b[32m1\u001b[39m \u001b[43mresult\u001b[49m\n",
      "\u001b[31mNameError\u001b[39m: name 'result' is not defined"
     ]
    }
   ],
   "source": [
    "result"
   ]
  },
  {
   "cell_type": "code",
   "execution_count": 169,
   "metadata": {},
   "outputs": [
    {
     "data": {
      "text/plain": [
       "Date\n",
       "1984-01-03 00:00:00+00:00     997.500000\n",
       "1984-01-04 00:00:00+00:00     998.599976\n",
       "1984-01-05 00:00:00+00:00    1015.799988\n",
       "1984-01-06 00:00:00+00:00    1029.000000\n",
       "1984-01-09 00:00:00+00:00    1034.599976\n",
       "                                ...     \n",
       "2025-03-24 00:00:00+00:00    8638.000000\n",
       "2025-03-25 00:00:00+00:00    8663.799805\n",
       "2025-03-26 00:00:00+00:00    8689.599609\n",
       "2025-03-27 00:00:00+00:00    8666.099609\n",
       "2025-03-28 00:00:00+00:00    8658.900391\n",
       "Name: ftse100, Length: 10418, dtype: float64"
      ]
     },
     "execution_count": 169,
     "metadata": {},
     "output_type": "execute_result"
    }
   ],
   "source": [
    "ftse100"
   ]
  },
  {
   "cell_type": "code",
   "execution_count": 146,
   "metadata": {},
   "outputs": [
    {
     "data": {
      "text/plain": [
       "<Axes: title={'center': 'Hurst exponent FTSE100'}>"
      ]
     },
     "execution_count": 146,
     "metadata": {},
     "output_type": "execute_result"
    },
    {
     "data": {
      "image/png": "[encoded data removed]",
      "text/plain": [
       "<Figure size 1200x600 with 1 Axes>"
      ]
     },
     "metadata": {},
     "output_type": "display_data"
    }
   ],
   "source": [
    "compute_hurst_series(ftse100).plot(title='Hurst exponent FTSE100', figsize=(12, 6))"
   ]
  },
  {
   "cell_type": "code",
   "execution_count": null,
   "metadata": {},
   "outputs": [],
   "source": [
    "import numpy as np\n",
    "from scipy import stats\n",
    "\n",
    "def calculate_hurst(prices, min_window=10, max_window=None):\n",
    "    # Convert prices to returns if needed\n",
    "    returns = np.log(prices[1:]) - np.log(prices[:-1])\n",
    "    \n",
    "    if max_window is None:\n",
    "        max_window = len(returns) // 2\n",
    "    \n",
    "    # Create range of window sizes\n",
    "    window_sizes = np.logspace(np.log10(min_window), \n",
    "                             np.log10(max_window),\n",
    "                             num=20, dtype=int)\n",
    "    \n",
    "    # Calculate variance for each window size\n",
    "    variances = []\n",
    "    for w in window_sizes:\n",
    "        # Calculate standard deviation for each window\n",
    "        stds = []\n",
    "        for i in range(0, len(returns)-w, w):\n",
    "            window = returns[i:i+w]\n",
    "            stds.append(np.std(window))\n",
    "        variances.append(np.mean(stds))\n",
    "    \n",
    "    # Perform linear regression on log-log plot\n",
    "    log_window = np.log10(window_sizes)\n",
    "    log_variance = np.log10(variances)\n",
    "    slope, _, _, _, _ = stats.linregress(log_window, log_variance)\n",
    "    \n",
    "    # Hurst exponent is the slope\n",
    "    hurst = slope\n",
    "    \n",
    "    return hurst\n",
    "\n",
    "# For time-varying Hurst:\n",
    "def rolling_hurst(prices, window=250):\n",
    "    hurst_values = []\n",
    "    for i in range(window, len(prices)):\n",
    "        window_prices = prices[i-window:i]\n",
    "        h = calculate_hurst(window_prices)\n",
    "        hurst_values.append(h)\n",
    "    return np.array(hurst_values)"
   ]
  },
  {
   "cell_type": "code",
   "execution_count": 71,
   "metadata": {},
   "outputs": [],
   "source": [
    "#np array from 1 to 10\n",
    "scales = np.array(ftse100)[:100]\n",
    "\n"
   ]
  },
  {
   "cell_type": "code",
   "execution_count": null,
   "metadata": {},
   "outputs": [
    {
     "name": "stderr",
     "output_type": "stream",
     "text": [
      "/var/folders/vk/z0p4r5z97d99dp7mpbt9yd1w0000gn/T/ipykernel_75230/322855673.py:1: FutureWarning: Series.__getitem__ treating keys as positions is deprecated. In a future version, integer keys will always be treated as labels (consistent with DataFrame behavior). To access a value by position, use `ser.iloc[pos]`\n",
      "  prices[12]\n"
     ]
    },
    {
     "data": {
      "text/plain": [
       "np.float64(26381.0)"
      ]
     },
     "execution_count": 102,
     "metadata": {},
     "output_type": "execute_result"
    }
   ],
   "source": []
  },
  {
   "cell_type": "code",
   "execution_count": 134,
   "metadata": {},
   "outputs": [
    {
     "name": "stdout",
     "output_type": "stream",
     "text": [
      "0.43838033225287426\n",
      "0.09856814055481444\n",
      "0.4331167711460945\n",
      "0.23399047511774762\n",
      "0.05795084384711744\n",
      "0.01911478574275283\n",
      "0.1197689914087621\n",
      "0.17975192657620961\n",
      "0.08988199840465243\n",
      "0.003836382850135003\n",
      "-0.13042417280207375\n",
      "0.22494715574979937\n",
      "0.4351122782313754\n",
      "0.5309238843270829\n",
      "0.26687693148113056\n",
      "0.08263619392653898\n",
      "0.04428971895428254\n",
      "0.11146827892201193\n",
      "-0.17466155244826598\n",
      "-0.6369972372629885\n",
      "-0.9075200419825787\n",
      "-0.1983162323219497\n",
      "-0.0009143168396436093\n",
      "0.24274311682435953\n",
      "0.19688798959143095\n",
      "0.005663058117431405\n",
      "-0.3428079452601359\n",
      "0.08257876073687427\n",
      "0.4404699700923926\n",
      "0.521797015489009\n",
      "0.37487532954039293\n",
      "0.4909738368034971\n",
      "0.61207966917709\n",
      "0.5961096048947908\n",
      "0.43064197444205243\n",
      "-0.01500805181359192\n",
      "-0.20904877994589885\n",
      "-0.11003282546110038\n",
      "-0.07851535248514074\n",
      "-0.20752110909523133\n",
      "-0.17886904014084518\n",
      "-0.03169913191575196\n",
      "0.2269953037190495\n",
      "0.09367237809047288\n",
      "0.22780475243609316\n",
      "0.2114702531074675\n",
      "0.2088520879707902\n",
      "0.04095659874984128\n",
      "-0.2782125772350194\n",
      "0.18170814420886336\n",
      "0.5035023041480245\n",
      "0.48559093708684814\n",
      "0.33297132691833475\n",
      "0.43438025664835817\n",
      "0.5517309469609779\n",
      "0.43655593126058234\n",
      "0.40195845723758916\n",
      "0.29790994855114916\n",
      "0.3947021568660212\n",
      "0.1620272663467162\n",
      "0.2811014372297116\n",
      "0.5301243792627077\n",
      "0.5936489437482039\n",
      "0.5294228384930932\n",
      "0.33253936336310846\n",
      "0.4323547771625871\n",
      "0.43705911527442165\n",
      "0.542438419917833\n",
      "0.31360530388084523\n",
      "0.30984485385176036\n",
      "0.40184685201228143\n",
      "0.151599673913946\n",
      "0.2921781443677894\n",
      "0.5333872506693728\n",
      "0.3742447953101799\n",
      "0.30224603901311925\n",
      "0.20983388625260732\n",
      "0.420743826604764\n",
      "0.4987495391693593\n",
      "0.440202989197479\n"
     ]
    }
   ],
   "source": [
    "def hurst(log_prices, scales):\n",
    "    \"\"\"\n",
    "    Calculate the Hurst exponent using the variance method.\n",
    "    Parameters:\n",
    "        log_prices: array-like, log prices\n",
    "        scales: array-like, scales to compute the Hurst exponent\n",
    "    Returns:\n",
    "        float, Hurst exponent\n",
    "    \"\"\"\n",
    "    # Calculate the log returns\n",
    "    variances = []\n",
    "    for scale in scales:\n",
    "        scaled_series = np.subtract(log_prices[scale:], log_prices[:-scale])\n",
    "        variances.append(np.std(scaled_series))\n",
    "    m = np.polyfit(np.log10(scales), np.log10(variances), 1)\n",
    "    return m[0]\n",
    "\n",
    "k = 10\n",
    "\n",
    "prices = ftsemib[:100]\n",
    "\n",
    "log_prices = np.log(prices)\n",
    "\n",
    "hurst_exponent = pd.Series(index=prices.index[k:], dtype=float)\n",
    "\n",
    "for t in range(k, len(log_prices) - k):\n",
    "    window = log_prices[t-k:t].values\n",
    "    print(hurst(window, range(1, k // 2)))"
   ]
  },
  {
   "cell_type": "code",
   "execution_count": 132,
   "metadata": {},
   "outputs": [
    {
     "data": {
      "text/plain": [
       "Date\n",
       "1997-12-31 00:00:00+01:00    10.102420\n",
       "1998-01-02 00:00:00+01:00    10.123185\n",
       "1998-01-05 00:00:00+01:00    10.155568\n",
       "1998-01-06 00:00:00+01:00    10.155568\n",
       "1998-01-07 00:00:00+01:00    10.164351\n",
       "                               ...    \n",
       "1998-05-14 00:00:00+02:00    10.439016\n",
       "1998-05-15 00:00:00+02:00    10.438371\n",
       "1998-05-18 00:00:00+02:00    10.403778\n",
       "1998-05-19 00:00:00+02:00    10.437023\n",
       "1998-05-20 00:00:00+02:00    10.434439\n",
       "Name: ftsemib, Length: 100, dtype: float64"
      ]
     },
     "execution_count": 132,
     "metadata": {},
     "output_type": "execute_result"
    }
   ],
   "source": [
    "log_prices"
   ]
  },
  {
   "cell_type": "code",
   "execution_count": 105,
   "metadata": {},
   "outputs": [
    {
     "data": {
      "text/plain": [
       "Date\n",
       "1998-01-15 00:00:00+01:00   NaN\n",
       "1998-01-16 00:00:00+01:00   NaN\n",
       "1998-01-19 00:00:00+01:00   NaN\n",
       "1998-01-20 00:00:00+01:00   NaN\n",
       "1998-01-21 00:00:00+01:00   NaN\n",
       "                             ..\n",
       "2025-03-24 00:00:00+01:00   NaN\n",
       "2025-03-25 00:00:00+01:00   NaN\n",
       "2025-03-26 00:00:00+01:00   NaN\n",
       "2025-03-27 00:00:00+01:00   NaN\n",
       "2025-03-28 00:00:00+01:00   NaN\n",
       "Length: 6952, dtype: float64"
      ]
     },
     "execution_count": 105,
     "metadata": {},
     "output_type": "execute_result"
    }
   ],
   "source": [
    "hurst_exponent"
   ]
  },
  {
   "cell_type": "code",
   "execution_count": null,
   "metadata": {},
   "outputs": [
    {
     "ename": "IndentationError",
     "evalue": "unexpected indent (3740547240.py, line 22)",
     "output_type": "error",
     "traceback": [
      "  \u001b[36mCell\u001b[39m\u001b[36m \u001b[39m\u001b[32mIn[47]\u001b[39m\u001b[32m, line 22\u001b[39m\n\u001b[31m    \u001b[39m\u001b[31mvariances = []\u001b[39m\n    ^\n\u001b[31mIndentationError\u001b[39m\u001b[31m:\u001b[39m unexpected indent\n"
     ]
    }
   ],
   "source": [
    "def hurst(input_ts, lags_to_test=[2,20]):\n",
    "    # interpretation of return value\n",
    "    # H < 0.5 : mean reverting\n",
    "    # H = 0.5 : random walk\n",
    "    # H > 0.5 : trending\n",
    "    tau = []\n",
    "    lagvec = []\n",
    "    # Step through the different lags\n",
    "    for lag in lags_to_test:\n",
    "        # produce time series differences with lag\n",
    "        pp = np.subtract(input_ts[lag:], input_ts[:-lag])\n",
    "        # write the different lags into a vector\n",
    "        lagvec.append(lag)\n",
    "        # calculate the variance of the series\n",
    "        tau.append(np.std(pp))\n",
    "    # linear fit to double-log graph\n",
    "    m = np.polyfit(np.log10(lagvec), np.log10(tau), 1)\n",
    "    # hurst exponent is the slope of the line of best fit\n",
    "    hurst = m[0]\n",
    "    return hurst\n",
    "\n",
    "\n",
    "\n",
    "import numpy as np\n",
    "import pandas as pd\n",
    "from scipy.stats import norm\n",
    "\n",
    "def compute_modified_hurst(prices, window_size=10):\n",
    "    \"\"\"\n",
    "    Compute time-varying Hurst exponent using variance method with rolling window approach\n",
    "    as described in Mattera et al. (2022) @13\n",
    "    \n",
    "    Parameters:\n",
    "        prices (array-like): Financial time series data\n",
    "        window_size (int): Size of rolling window (default=10 days) @13\n",
    "        \n",
    "    Returns:\n",
    "        pd.DataFrame: DataFrame containing Hurst exponents and inefficiency measures\n",
    "    \"\"\"\n",
    "    \n",
    "    # Calculate log returns\n",
    "    returns = np.log(prices[1:]/prices[:-1])\n",
    "    \n",
    "    # Initialize arrays for results\n",
    "    n = len(returns)\n",
    "    hurst_values = np.zeros(n - window_size)\n",
    "    inefficiency_measures = np.zeros(n - window_size)\n",
    "    \n",
    "    # Implement rolling window analysis @13\n",
    "    for t in range(n - window_size):\n",
    "        window_data = returns[t:t + window_size]\n",
    "        \n",
    "        # Calculate variances at different scales\n",
    "        scales = range(2, window_size // 2)\n",
    "        variances = []\n",
    "        \n",
    "        for scale in scales:\n",
    "            # Compute scaled variance @11\n",
    "            scaled_series = window_data[scale:] - window_data[:-scale]\n",
    "            variance = np.std(scaled_series)\n",
    "            variances.append(variance)\n",
    "            \n",
    "        if len(scales) > 1:\n",
    "            # Perform log-log regression to estimate Hurst exponent @11\n",
    "            log_scales = np.log10(scales)\n",
    "            log_variances = np.log10(variances)\n",
    "            \n",
    "            coeffs = np.polyfit(log_scales, log_variances, 1)\n",
    "            hurst = coeffs[0]  # Slope gives Hurst exponent\n",
    "            \n",
    "            # Store results\n",
    "            hurst_values[t] = hurst\n",
    "            # Calculate inefficiency measure as defined in paper @14\n",
    "            inefficiency_measures[t] = 0.5 - hurst\n",
    "    \n",
    "    # Create results DataFrame\n",
    "    results = pd.DataFrame({\n",
    "        'Hurst': hurst_values,\n",
    "        'Inefficiency': inefficiency_measures,\n",
    "    }, index=prices.index[window_size+1:])\n",
    "    \n",
    "    return results\n",
    "\n",
    "def analyze_market_efficiency(ticker, start_date, end_date, window_size=10):\n",
    "    \"\"\"\n",
    "    Analyze market efficiency using the modified Hurst approach\n",
    "    \n",
    "    Parameters:\n",
    "        ticker (str): Market symbol\n",
    "        start_date (str): Start date\n",
    "        end_date (str): End date\n",
    "        window_size (int): Rolling window size\n",
    "    \"\"\"\n",
    "    import yfinance as yf\n",
    "    \n",
    "    # Fetch market data\n",
    "    data = yf.download(ticker, start=start_date, end=end_date)\n",
    "    \n",
    "    # Compute Hurst and inefficiency measures\n",
    "    results = compute_modified_hurst(data['Adj Close'], window_size)\n",
    "    \n",
    "    # Add volatility calculation @7\n",
    "    returns = np.log(data['Adj Close']/data['Adj Close'].shift(1))\n",
    "    volatility = returns.rolling(window=window_size).std() * np.sqrt(252)\n",
    "    results['Volatility'] = volatility[window_size+1:]\n",
    "    \n",
    "    return results\n",
    "\n",
    "def test_market_efficiency(results):\n",
    "    \"\"\"\n",
    "    Test market efficiency using statistical approaches @2, @3\n",
    "    \n",
    "    Parameters:\n",
    "        results (pd.DataFrame): Results from Hurst analysis\n",
    "    \"\"\"\n",
    "    # Perform statistical tests\n",
    "    from scipy import stats\n",
    "    \n",
    "    # Test if Hurst values are significantly different from 0.5 @2\n",
    "    t_stat, p_value = stats.ttest_1samp(results['Hurst'], 0.5)\n",
    "    \n",
    "    efficiency_results = {\n",
    "        'Mean_Hurst': results['Hurst'].mean(),\n",
    "        'Std_Hurst': results['Hurst'].std(),\n",
    "        't_statistic': t_stat,\n",
    "        'p_value': p_value\n",
    "    }\n",
    "    \n",
    "    return efficiency_results\n",
    "\n",
    "# Example usage:\n",
    "if __name__ == \"__main__\":\n",
    "    # Analyze S&P 500 during financial crisis period @7\n",
    "    sp500_analysis = analyze_market_efficiency(\n",
    "        '^GSPC',\n",
    "        '2007-01-01',\n",
    "        '2009-12-31',\n",
    "        window_size=10\n",
    "    )\n",
    "    \n",
    "    # Get efficiency test results\n",
    "    efficiency_stats = test_market_efficiency(sp500_analysis)\n",
    "    \n",
    "    print(\"Market Efficiency Analysis Results:\")\n",
    "    print(efficiency_stats)"
   ]
  },
  {
   "cell_type": "code",
   "execution_count": null,
   "metadata": {},
   "outputs": [],
   "source": []
  },
  {
   "cell_type": "code",
   "execution_count": 11,
   "metadata": {},
   "outputs": [
    {
     "data": {
      "text/plain": [
       "array([-0.05311606, -1.24470661, -0.59065878, ...,  0.54692379,\n",
       "       -0.23349706, -0.41687186], shape=(10407,))"
      ]
     },
     "execution_count": 11,
     "metadata": {},
     "output_type": "execute_result"
    }
   ],
   "source": [
    "compute_hurst(np.array(ftse100))"
   ]
  },
  {
   "cell_type": "code",
   "execution_count": 18,
   "metadata": {},
   "outputs": [
    {
     "data": {
      "text/plain": [
       "np.float64(0.46190919031037053)"
      ]
     },
     "execution_count": 18,
     "metadata": {},
     "output_type": "execute_result"
    }
   ],
   "source": [
    "hurst(np.array(ftse100)[100:], lags_to_test=[2,20])"
   ]
  },
  {
   "cell_type": "code",
   "execution_count": null,
   "metadata": {},
   "outputs": [],
   "source": [
    "import numpy as np\n",
    "import pandas as pd\n",
    "from scipy.stats import norm\n",
    "\n",
    "def compute_modified_hurst(prices, window_size=10):\n",
    "    \"\"\"\n",
    "    Compute time-varying Hurst exponent using variance method with rolling window approach\n",
    "    as described in Mattera et al. (2022) @13\n",
    "    \n",
    "    Parameters:\n",
    "        prices (array-like): Financial time series data\n",
    "        window_size (int): Size of rolling window (default=10 days) @13\n",
    "        \n",
    "    Returns:\n",
    "        pd.DataFrame: DataFrame containing Hurst exponents and inefficiency measures\n",
    "    \"\"\"\n",
    "    \n",
    "    # Calculate log returns\n",
    "    returns = np.log(prices[1:]/prices[:-1])\n",
    "    \n",
    "    # Initialize arrays for results\n",
    "    n = len(returns)\n",
    "    hurst_values = np.zeros(n - window_size)\n",
    "    inefficiency_measures = np.zeros(n - window_size)\n",
    "    \n",
    "    # Implement rolling window analysis @13\n",
    "    for t in range(n - window_size):\n",
    "        window_data = returns[t:t + window_size]\n",
    "        \n",
    "        # Calculate variances at different scales\n",
    "        scales = range(2, window_size // 2)\n",
    "        variances = []\n",
    "        \n",
    "        for scale in scales:\n",
    "            # Compute scaled variance @11\n",
    "            scaled_series = window_data[scale:] - window_data[:-scale]\n",
    "            variance = np.std(scaled_series)\n",
    "            variances.append(variance)\n",
    "            \n",
    "        if len(scales) > 1:\n",
    "            # Perform log-log regression to estimate Hurst exponent @11\n",
    "            log_scales = np.log10(scales)\n",
    "            log_variances = np.log10(variances)\n",
    "            \n",
    "            coeffs = np.polyfit(log_scales, log_variances, 1)\n",
    "            hurst = coeffs[0]  # Slope gives Hurst exponent\n",
    "            \n",
    "            # Store results\n",
    "            hurst_values[t] = hurst\n",
    "            # Calculate inefficiency measure as defined in paper @14\n",
    "            inefficiency_measures[t] = 0.5 - hurst\n",
    "    \n",
    "    # Create results DataFrame\n",
    "    results = pd.DataFrame({\n",
    "        'Hurst': hurst_values,\n",
    "        'Inefficiency': inefficiency_measures,\n",
    "    }, index=prices.index[window_size+1:])\n",
    "    \n",
    "    return results\n",
    "\n",
    "def analyze_market_efficiency(ticker, start_date, end_date, window_size=10):\n",
    "    \"\"\"\n",
    "    Analyze market efficiency using the modified Hurst approach\n",
    "    \n",
    "    Parameters:\n",
    "        ticker (str): Market symbol\n",
    "        start_date (str): Start date\n",
    "        end_date (str): End date\n",
    "        window_size (int): Rolling window size\n",
    "    \"\"\"\n",
    "    import yfinance as yf\n",
    "    \n",
    "    # Fetch market data\n",
    "    data = yf.download(ticker, start=start_date, end=end_date)\n",
    "    \n",
    "    # Compute Hurst and inefficiency measures\n",
    "    results = compute_modified_hurst(data['Adj Close'], window_size)\n",
    "    \n",
    "    # Add volatility calculation @7\n",
    "    returns = np.log(data['Adj Close']/data['Adj Close'].shift(1))\n",
    "    volatility = returns.rolling(window=window_size).std() * np.sqrt(252)\n",
    "    results['Volatility'] = volatility[window_size+1:]\n",
    "    \n",
    "    return results\n",
    "\n",
    "def test_market_efficiency(results):\n",
    "    \"\"\"\n",
    "    Test market efficiency using statistical approaches @2, @3\n",
    "    \n",
    "    Parameters:\n",
    "        results (pd.DataFrame): Results from Hurst analysis\n",
    "    \"\"\"\n",
    "    # Perform statistical tests\n",
    "    from scipy import stats\n",
    "    \n",
    "    # Test if Hurst values are significantly different from 0.5 @2\n",
    "    t_stat, p_value = stats.ttest_1samp(results['Hurst'], 0.5)\n",
    "    \n",
    "    efficiency_results = {\n",
    "        'Mean_Hurst': results['Hurst'].mean(),\n",
    "        'Std_Hurst': results['Hurst'].std(),\n",
    "        't_statistic': t_stat,\n",
    "        'p_value': p_value\n",
    "    }\n",
    "    \n",
    "    return efficiency_results\n",
    "\n",
    "# Example usage:\n",
    "if __name__ == \"__main__\":\n",
    "    # Analyze S&P 500 during financial crisis period @7\n",
    "    sp500_analysis = analyze_market_efficiency(\n",
    "        '^GSPC',\n",
    "        '2007-01-01',\n",
    "        '2009-12-31',\n",
    "        window_size=10\n",
    "    )\n",
    "    \n",
    "    # Get efficiency test results\n",
    "    efficiency_stats = test_market_efficiency(sp500_analysis)\n",
    "    \n",
    "    print(\"Market Efficiency Analysis Results:\")\n",
    "    print(efficiency_stats)"
   ]
  },
  {
   "cell_type": "code",
   "execution_count": 22,
   "metadata": {},
   "outputs": [
    {
     "ename": "AttributeError",
     "evalue": "'numpy.ndarray' object has no attribute 'index'",
     "output_type": "error",
     "traceback": [
      "\u001b[31m---------------------------------------------------------------------------\u001b[39m",
      "\u001b[31mAttributeError\u001b[39m                            Traceback (most recent call last)",
      "\u001b[36mCell\u001b[39m\u001b[36m \u001b[39m\u001b[32mIn[22]\u001b[39m\u001b[32m, line 57\u001b[39m\n\u001b[32m     50\u001b[39m     results = pd.DataFrame({\n\u001b[32m     51\u001b[39m         \u001b[33m'\u001b[39m\u001b[33mHurst\u001b[39m\u001b[33m'\u001b[39m: hurst_values,\n\u001b[32m     52\u001b[39m         \u001b[33m'\u001b[39m\u001b[33mInefficiency\u001b[39m\u001b[33m'\u001b[39m: inefficiency_measures,\n\u001b[32m     53\u001b[39m     }, index=prices.index[window_size:])\n\u001b[32m     55\u001b[39m     \u001b[38;5;28;01mreturn\u001b[39;00m results\n\u001b[32m---> \u001b[39m\u001b[32m57\u001b[39m \u001b[43mcompute_modified_hurst\u001b[49m\u001b[43m(\u001b[49m\u001b[43mnp\u001b[49m\u001b[43m.\u001b[49m\u001b[43marray\u001b[49m\u001b[43m(\u001b[49m\u001b[43mftse100\u001b[49m\u001b[43m)\u001b[49m\u001b[43m,\u001b[49m\u001b[43m \u001b[49m\u001b[43mwindow_size\u001b[49m\u001b[43m=\u001b[49m\u001b[32;43m10\u001b[39;49m\u001b[43m)\u001b[49m\n",
      "\u001b[36mCell\u001b[39m\u001b[36m \u001b[39m\u001b[32mIn[22]\u001b[39m\u001b[32m, line 53\u001b[39m, in \u001b[36mcompute_modified_hurst\u001b[39m\u001b[34m(prices, window_size)\u001b[39m\n\u001b[32m     47\u001b[39m         inefficiency_measures[t] = \u001b[32m0.5\u001b[39m - hurst\n\u001b[32m     49\u001b[39m \u001b[38;5;66;03m# Create results DataFrame\u001b[39;00m\n\u001b[32m     50\u001b[39m results = pd.DataFrame({\n\u001b[32m     51\u001b[39m     \u001b[33m'\u001b[39m\u001b[33mHurst\u001b[39m\u001b[33m'\u001b[39m: hurst_values,\n\u001b[32m     52\u001b[39m     \u001b[33m'\u001b[39m\u001b[33mInefficiency\u001b[39m\u001b[33m'\u001b[39m: inefficiency_measures,\n\u001b[32m---> \u001b[39m\u001b[32m53\u001b[39m }, index=\u001b[43mprices\u001b[49m\u001b[43m.\u001b[49m\u001b[43mindex\u001b[49m[window_size:])\n\u001b[32m     55\u001b[39m \u001b[38;5;28;01mreturn\u001b[39;00m results\n",
      "\u001b[31mAttributeError\u001b[39m: 'numpy.ndarray' object has no attribute 'index'"
     ]
    }
   ],
   "source": [
    "def compute_modified_hurst(prices, window_size=10):\n",
    "    \"\"\"\n",
    "    Compute time-varying Hurst exponent using variance method with rolling window approach\n",
    "    as described in Mattera et al. (2022) @13\n",
    "    \n",
    "    Parameters:\n",
    "        prices (array-like): Financial time series data\n",
    "        window_size (int): Size of rolling window (default=10 days) @13\n",
    "        \n",
    "    Returns:\n",
    "        pd.DataFrame: DataFrame containing Hurst exponents and inefficiency measures\n",
    "    \"\"\"\n",
    "    \n",
    "    # Calculate log returns\n",
    "    returns = np.log(prices[1:]/prices[:-1])\n",
    "    \n",
    "    # Initialize arrays for results\n",
    "    n = len(returns)\n",
    "    hurst_values = np.zeros(n - window_size)\n",
    "    inefficiency_measures = np.zeros(n - window_size)\n",
    "    \n",
    "    # Implement rolling window analysis @13\n",
    "    for t in range(n - window_size):\n",
    "        window_data = returns[t:t + window_size]\n",
    "        \n",
    "        # Calculate variances at different scales\n",
    "        scales = range(2, window_size // 2)\n",
    "        variances = []\n",
    "        \n",
    "        for scale in scales:\n",
    "            # Compute scaled variance @11\n",
    "            scaled_series = window_data[scale:] - window_data[:-scale]\n",
    "            variance = np.std(scaled_series)\n",
    "            variances.append(variance)\n",
    "            \n",
    "        if len(scales) > 1:\n",
    "            # Perform log-log regression to estimate Hurst exponent @11\n",
    "            log_scales = np.log10(scales)\n",
    "            log_variances = np.log10(variances)\n",
    "            \n",
    "            coeffs = np.polyfit(log_scales, log_variances, 1)\n",
    "            hurst = coeffs[0]  # Slope gives Hurst exponent\n",
    "            \n",
    "            # Store results\n",
    "            hurst_values[t] = hurst\n",
    "            # Calculate inefficiency measure as defined in paper @14\n",
    "            inefficiency_measures[t] = 0.5 - hurst\n",
    "    \n",
    "    # Create results DataFrame\n",
    "    results = pd.DataFrame({\n",
    "        'Hurst': hurst_values,\n",
    "        'Inefficiency': inefficiency_measures,\n",
    "    }, index=prices.index[window_size:])\n",
    "    \n",
    "    return results\n",
    "\n",
    "compute_modified_hurst(np.array(ftse100), window_size=10)"
   ]
  },
  {
   "cell_type": "code",
   "execution_count": 24,
   "metadata": {},
   "outputs": [
    {
     "data": {
      "text/plain": [
       "array([ 0.00110212,  0.01707747,  0.01291099, ...,  0.00297346,\n",
       "       -0.00270805, -0.00083108], shape=(10417,))"
      ]
     },
     "execution_count": 24,
     "metadata": {},
     "output_type": "execute_result"
    }
   ],
   "source": [
    "\n",
    "\n",
    "np.log(np.array(ftse100)[1:]/np.array(ftse100)[:-1])"
   ]
  }
 ],
 "metadata": {
  "kernelspec": {
   "display_name": ".venv",
   "language": "python",
   "name": "python3"
  },
  "language_info": {
   "codemirror_mode": {
    "name": "ipython",
    "version": 3
   },
   "file_extension": ".py",
   "mimetype": "text/x-python",
   "name": "python",
   "nbconvert_exporter": "python",
   "pygments_lexer": "ipython3",
   "version": "3.11.6"
  }
 },
 "nbformat": 4,
 "nbformat_minor": 2
}
