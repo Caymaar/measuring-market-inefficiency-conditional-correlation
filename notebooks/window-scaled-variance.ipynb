{
 "cells": [
  {
   "cell_type": "code",
   "execution_count": null,
   "metadata": {},
   "outputs": [],
   "source": [
    "import pandas as pd\n",
    "import numpy as np\n",
    "\n",
    "class ScaledWindowedVariance:\n",
    "    \"\"\"\n",
    "    This implementation is based on the paper:\n",
    "    \"Evaluating scaled windowed variance methods for estimating\n",
    "    the Hurst coefficient of time series\" from Physica A. 1997 July 15; 241(3-4): 606–626.\n",
    "    \"\"\"\n",
    "    def __init__(self, data: pd.Series, \n",
    "                 min_window: int = 2, \n",
    "                 max_window: int = None, \n",
    "                 method: str = 'SD', \n",
    "                 exclusions: bool = False, \n",
    "                 custom_window_list: list = None):\n",
    "        \"\"\"\n",
    "        ScaledWindowedVariance calculates the scaled windowed variance of a time series.\n",
    "        It allows for different methods of calculation and can exclude certain values based on the method.\n",
    "\n",
    "        Parameters:\n",
    "        data (pd.Series): The time series data to analyze.\n",
    "        min_window (int): The minimum window size for the rolling calculation.\n",
    "        max_window (int): The maximum window size for the rolling calculation.\n",
    "        method (str): The method of detrending to use ('SD', 'linear', 'bridge').\n",
    "        exclusions (bool): Whether to exclude a part of the scaled window according to the method.\n",
    "        custom_window_list (list): A custom list of window sizes to use instead of the default range.\n",
    "        \"\"\"\n",
    "\n",
    "        self.data = data\n",
    "        self.exclusions = exclusions\n",
    "        self.method = method\n",
    "\n",
    "        if method not in ['SD', 'LD', 'BD']:\n",
    "            raise ValueError(\"Method must be one of 'SD', 'LD' or 'BD'.\")\n",
    "        \n",
    "        N = len(data)\n",
    "        if N < 2:\n",
    "            raise ValueError(\"Data must contain at least two points.\")\n",
    "        \n",
    "        self.min_window = np.log2(min_window)\n",
    "        self.max_window = np.log2(max_window) if max_window else int(np.floor(np.log2(N)))\n",
    "\n",
    "        self.window_sizes = custom_window_list if custom_window_list else 2 ** np.arange(min_window, max_window + 1)\n",
    "        self.window_scales = np.log2(self.window_sizes)\n",
    "\n",
    "    def _manage_detrending(self, window):\n",
    "        \"\"\"Apply the appropriate detrending method.\"\"\"\n",
    "        if self.method == 'SD':\n",
    "            return window\n",
    "        elif self.method == 'LD':\n",
    "            return self._detrend_linear(window)\n",
    "        elif self.method == 'BD':\n",
    "            return self._detrend_bridge(window)\n",
    "\n",
    "    def _detrend_linear(self, window):\n",
    "        \"\"\"Remove linear trend from window using regression.\"\"\"\n",
    "        x = np.arange(len(window))\n",
    "        slope, intercept = np.polyfit(x, window, 1)\n",
    "        trend = slope * x + intercept\n",
    "        return window - trend\n",
    "\n",
    "    def _detrend_bridge(self, window):\n",
    "        \"\"\"Remove bridge trend from window.\"\"\"\n",
    "        if len(window) < 2:\n",
    "            return window\n",
    "        x = np.arange(len(window))\n",
    "        first, last = window[0], window[-1]\n",
    "        trend = np.linspace(first, last, len(window))\n",
    "        return window - trend\n",
    "        \n",
    "    def _find_exclusions_bounds(self):\n",
    "        \"\"\"Determine the exclusions based on the method.\"\"\"\n",
    "\n",
    "        lower_window_exclusion = {\"SD\": [0, 0], \"LD\": [1, 0], \"BD\": [1, 0]}\n",
    "\n",
    "        exclusions_dict = {\n",
    "            6: {\"SD\": [0, 2], \"LD\": [2, 0], \"BD\": [1, 0]},\n",
    "            7: {\"SD\": [0, 3], \"LD\": [2, 1], \"BD\": [1, 0]},\n",
    "            8: {\"SD\": [0, 3], \"LD\": [2, 2], \"BD\": [1, 0]},\n",
    "            9: {\"SD\": [1, 4], \"LD\": [2, 2], \"BD\": [2, 2]},\n",
    "            10: {\"SD\": [1, 4], \"LD\": [2, 2], \"BD\": [2, 3]},\n",
    "            11: {\"SD\": [1, 5], \"LD\": [3, 4], \"BD\": [2, 4]},\n",
    "            12: {\"SD\": [1, 5], \"LD\": [3, 5], \"BD\": [2, 4]},\n",
    "            13: {\"SD\": [2, 6], \"LD\": [3, 5], \"BD\": [2, 5]},\n",
    "            14: {\"SD\": [2, 7], \"LD\": [4, 5], \"BD\": [3, 6]},\n",
    "            15: {\"SD\": [2, 7], \"LD\": [5, 5], \"BD\": [3, 7]},\n",
    "            16: {\"SD\": [3, 7], \"LD\": [6, 5], \"BD\": [3, 7]},\n",
    "            17: {\"SD\": [4, 7], \"LD\": [7, 5], \"BD\": [3, 7]},\n",
    "        }\n",
    "\n",
    "        if self.max_window in exclusions_dict:\n",
    "            return exclusions_dict[self.max_window][self.method]\n",
    "        elif self.max_window > max(exclusions_dict.keys()):\n",
    "            return exclusions_dict[max(exclusions_dict.keys())][self.method]\n",
    "        else:\n",
    "            return lower_window_exclusion[self.method]\n"
   ]
  },
  {
   "cell_type": "code",
   "execution_count": 32,
   "metadata": {},
   "outputs": [
    {
     "data": {
      "text/plain": [
       "array([1.        , 2.        , 2.32192809, 3.        , 3.32192809])"
      ]
     },
     "execution_count": 32,
     "metadata": {},
     "output_type": "execute_result"
    }
   ],
   "source": [
    "window_sizes =  [2, 4, 5, 8, 10]\n",
    "np.log2(window_sizes)"
   ]
  },
  {
   "cell_type": "code",
   "execution_count": null,
   "metadata": {},
   "outputs": [
    {
     "name": "stdout",
     "output_type": "stream",
     "text": [
      "Window sizes : [np.int64(2), np.int64(4), np.int64(8), np.int64(16), np.int64(32), np.int64(64), np.int64(128), np.int64(256)]\n"
     ]
    }
   ],
   "source": [
    "N = 256\n",
    "# Choix des tailles de fenêtres : ici, de 2 à N//2 avec un pas de 2.\n",
    "# (On peut ajuster ce choix en fonction de la série et des recommandations.)\n",
    "window_sizes = 2 ** np.arange(1, int(np.log2(N)) + 1)\n",
    "print(f\"Window sizes : {window_sizes}\")\n",
    "\n"
   ]
  },
  {
   "cell_type": "code",
   "execution_count": 16,
   "metadata": {},
   "outputs": [
    {
     "ename": "TypeError",
     "evalue": "return arrays must be of ArrayType",
     "output_type": "error",
     "traceback": [
      "\u001b[31m---------------------------------------------------------------------------\u001b[39m",
      "\u001b[31mTypeError\u001b[39m                                 Traceback (most recent call last)",
      "\u001b[36mCell\u001b[39m\u001b[36m \u001b[39m\u001b[32mIn[16]\u001b[39m\u001b[32m, line 1\u001b[39m\n\u001b[32m----> \u001b[39m\u001b[32m1\u001b[39m \u001b[43mnp\u001b[49m\u001b[43m.\u001b[49m\u001b[43mlog\u001b[49m\u001b[43m(\u001b[49m\u001b[32;43m256\u001b[39;49m\u001b[43m,\u001b[49m\u001b[43m \u001b[49m\u001b[32;43m2\u001b[39;49m\u001b[43m)\u001b[49m\n",
      "\u001b[31mTypeError\u001b[39m: return arrays must be of ArrayType"
     ]
    }
   ],
   "source": [
    "np.log(256, 2)"
   ]
  },
  {
   "cell_type": "code",
   "execution_count": 8,
   "metadata": {},
   "outputs": [
    {
     "ename": "AttributeError",
     "evalue": "'numpy.ndarray' object has no attribute 'pop'",
     "output_type": "error",
     "traceback": [
      "\u001b[31m---------------------------------------------------------------------------\u001b[39m",
      "\u001b[31mAttributeError\u001b[39m                            Traceback (most recent call last)",
      "\u001b[36mCell\u001b[39m\u001b[36m \u001b[39m\u001b[32mIn[8]\u001b[39m\u001b[32m, line 1\u001b[39m\n\u001b[32m----> \u001b[39m\u001b[32m1\u001b[39m \u001b[43mwindow_sizes\u001b[49m\u001b[43m.\u001b[49m\u001b[43mpop\u001b[49m(\u001b[32m1\u001b[39m)\n",
      "\u001b[31mAttributeError\u001b[39m: 'numpy.ndarray' object has no attribute 'pop'"
     ]
    }
   ],
   "source": [
    "window_sizes.pop(1)"
   ]
  }
 ],
 "metadata": {
  "kernelspec": {
   "display_name": ".venv",
   "language": "python",
   "name": "python3"
  },
  "language_info": {
   "codemirror_mode": {
    "name": "ipython",
    "version": 3
   },
   "file_extension": ".py",
   "mimetype": "text/x-python",
   "name": "python",
   "nbconvert_exporter": "python",
   "pygments_lexer": "ipython3",
   "version": "3.11.3"
  }
 },
 "nbformat": 4,
 "nbformat_minor": 2
}
