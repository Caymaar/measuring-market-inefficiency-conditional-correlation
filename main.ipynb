{
 "cells": [
  {
   "cell_type": "code",
   "execution_count": 8,
   "metadata": {},
   "outputs": [],
   "source": [
    "from src.enums import HurstMethodType, GarchMethodType\n",
    "from src.launcher import Launcher"
   ]
  },
  {
   "cell_type": "markdown",
   "id": "f98fa233",
   "metadata": {},
   "source": [
    "### Define the parameters"
   ]
  },
  {
   "cell_type": "code",
   "execution_count": 9,
   "id": "1937d3d7",
   "metadata": {},
   "outputs": [],
   "source": [
    "# config = {\"hurst_method\": HurstMethodType.SCALED_WINDOWED_VARIANCE,\n",
    "#           \"data\": [\"s&p500\", \"ssec\", \"ftse100\", \"ftsemib\"],\n",
    "#           \"dates\": {\"Sub-Primes\": [\"01-07-2007\", \"01-09-2009\"],\n",
    "#                     \"COVID-2019\": [\"31-12-2020\", \"31-12-2021\"],\n",
    "#                     \"Ukraine War\": [\"24-02-2022\", \"24-02-2023\"]},\n",
    "#           \"params\": {\"hurst_params\": {\"method\": \"SD\", \"exclusions\": True},#{\"max_scale\": 20},#,\n",
    "#                      \"window\": 1000}}\n",
    "config = {\"hurst_method\": HurstMethodType.SCALED_WINDOWED_VARIANCE,\n",
    "          \"garch_method\": GarchMethodType.DCC,\n",
    "          \"data\": [\"ftsemib\", \"ssec\"],\n",
    "          \"dates\": {\"Sub-Primes\": [\"01-07-2007\", \"01-09-2009\"]},\n",
    "          \"params\": {\"hurst_params\": {\"method\": \"SD\", \"exclusions\": True},\"window\": 100}}"
   ]
  },
  {
   "cell_type": "markdown",
   "id": "49f6cf17",
   "metadata": {},
   "source": [
    "### Launch the full process"
   ]
  },
  {
   "cell_type": "code",
   "execution_count": 10,
   "id": "489242b0",
   "metadata": {},
   "outputs": [
    {
     "name": "stdout",
     "output_type": "stream",
     "text": [
      "Processing period: Sub-Primes with dates: ['01-07-2007', '01-09-2009']\n"
     ]
    },
    {
     "ename": "RuntimeError",
     "evalue": "Échec de l'optimisation DCC : Positive directional derivative for linesearch\nParamètres essayés : [0.9699413  0.02102428]",
     "output_type": "error",
     "traceback": [
      "\u001b[31m---------------------------------------------------------------------------\u001b[39m",
      "\u001b[31mRuntimeError\u001b[39m                              Traceback (most recent call last)",
      "\u001b[36mCell\u001b[39m\u001b[36m \u001b[39m\u001b[32mIn[10]\u001b[39m\u001b[32m, line 2\u001b[39m\n\u001b[32m      1\u001b[39m launcher = Launcher(**config)\n\u001b[32m----> \u001b[39m\u001b[32m2\u001b[39m test = \u001b[43mlauncher\u001b[49m\u001b[43m.\u001b[49m\u001b[43mrun_process\u001b[49m\u001b[43m(\u001b[49m\u001b[43m)\u001b[49m\n",
      "\u001b[36mFile \u001b[39m\u001b[32mc:\\Users\\thibc\\OneDrive\\Documents\\Dev\\measuring-market-inefficiency-conditional-correlation\\src\\launcher.py:88\u001b[39m, in \u001b[36mLauncher.run_process\u001b[39m\u001b[34m(self)\u001b[39m\n\u001b[32m     86\u001b[39m period_data = \u001b[38;5;28mself\u001b[39m._get_sub_dataframe(set_dates)\n\u001b[32m     87\u001b[39m framework = Framework(period_data, \u001b[38;5;28mself\u001b[39m.hurst_method, \u001b[38;5;28mself\u001b[39m.garch_method, \u001b[38;5;28mself\u001b[39m.params)\n\u001b[32m---> \u001b[39m\u001b[32m88\u001b[39m \u001b[43mframework\u001b[49m\u001b[43m.\u001b[49m\u001b[43mrun\u001b[49m\u001b[43m(\u001b[49m\u001b[43m)\u001b[49m\n",
      "\u001b[36mFile \u001b[39m\u001b[32mc:\\Users\\thibc\\OneDrive\\Documents\\Dev\\measuring-market-inefficiency-conditional-correlation\\src\\framework.py:64\u001b[39m, in \u001b[36mFramework.run\u001b[39m\u001b[34m(self)\u001b[39m\n\u001b[32m     62\u001b[39m \u001b[38;5;28mself\u001b[39m._compute_inefficiency()\n\u001b[32m     63\u001b[39m \u001b[38;5;28mself\u001b[39m.inefficiency_df.to_excel(\u001b[33m'\u001b[39m\u001b[33moutput/inefficiency.xlsx\u001b[39m\u001b[33m'\u001b[39m, index=\u001b[38;5;28;01mTrue\u001b[39;00m)\n\u001b[32m---> \u001b[39m\u001b[32m64\u001b[39m \u001b[38;5;28;43mself\u001b[39;49m\u001b[43m.\u001b[49m\u001b[43m_compute_conditional_correlations\u001b[49m\u001b[43m(\u001b[49m\u001b[43m)\u001b[49m\n\u001b[32m     65\u001b[39m \u001b[38;5;28mself\u001b[39m._compute_granger_causality()\n\u001b[32m     67\u001b[39m res = Results(\n\u001b[32m     68\u001b[39m     inefficiency_df=\u001b[38;5;28mself\u001b[39m.inefficiency_df,\n\u001b[32m     69\u001b[39m     dcc=\u001b[38;5;28mself\u001b[39m.dcc,\n\u001b[32m     70\u001b[39m     granger_tests=\u001b[38;5;28mself\u001b[39m.granger_tests\n\u001b[32m     71\u001b[39m )\n",
      "\u001b[36mFile \u001b[39m\u001b[32mc:\\Users\\thibc\\OneDrive\\Documents\\Dev\\measuring-market-inefficiency-conditional-correlation\\src\\framework.py:48\u001b[39m, in \u001b[36mFramework._compute_conditional_correlations\u001b[39m\u001b[34m(self)\u001b[39m\n\u001b[32m     46\u001b[39m df_input = \u001b[38;5;28mself\u001b[39m.inefficiency_df.pct_change().dropna()\n\u001b[32m     47\u001b[39m garch = \u001b[38;5;28mself\u001b[39m.garch_type.value()\n\u001b[32m---> \u001b[39m\u001b[32m48\u001b[39m \u001b[43mgarch\u001b[49m\u001b[43m.\u001b[49m\u001b[43mfit\u001b[49m\u001b[43m(\u001b[49m\u001b[43mdf_input\u001b[49m\u001b[43m)\u001b[49m\n\u001b[32m     49\u001b[39m \u001b[38;5;28mself\u001b[39m.dcc = garch.get_cc_matrix()\n",
      "\u001b[36mFile \u001b[39m\u001b[32mc:\\Users\\thibc\\OneDrive\\Documents\\Dev\\measuring-market-inefficiency-conditional-correlation\\src\\garch\\mgarch_dcc.py:140\u001b[39m, in \u001b[36mDCC.fit\u001b[39m\u001b[34m(self, data)\u001b[39m\n\u001b[32m    136\u001b[39m     \u001b[38;5;28;01mraise\u001b[39;00m \u001b[38;5;167;01mValueError\u001b[39;00m(\u001b[33m\"\u001b[39m\u001b[33mThe DCC model requires at least two time series.\u001b[39m\u001b[33m\"\u001b[39m)\n\u001b[32m    138\u001b[39m \u001b[38;5;28mself\u001b[39m.Z, \u001b[38;5;28mself\u001b[39m.Q_bar = \u001b[38;5;28mself\u001b[39m._fit_univariate_garch(data)\n\u001b[32m--> \u001b[39m\u001b[32m140\u001b[39m \u001b[38;5;28mself\u001b[39m.a, \u001b[38;5;28mself\u001b[39m.b = \u001b[38;5;28;43mself\u001b[39;49m\u001b[43m.\u001b[49m\u001b[43m_estimate_dcc_parameters\u001b[49m\u001b[43m(\u001b[49m\u001b[43m)\u001b[49m\n",
      "\u001b[36mFile \u001b[39m\u001b[32mc:\\Users\\thibc\\OneDrive\\Documents\\Dev\\measuring-market-inefficiency-conditional-correlation\\src\\garch\\mgarch_dcc.py:123\u001b[39m, in \u001b[36mDCC._estimate_dcc_parameters\u001b[39m\u001b[34m(self)\u001b[39m\n\u001b[32m    112\u001b[39m result = minimize(\n\u001b[32m    113\u001b[39m     fun=\u001b[38;5;28mself\u001b[39m._dcc_likelihood,\n\u001b[32m    114\u001b[39m     x0=\u001b[38;5;28mself\u001b[39m.initial_params,\n\u001b[32m   (...)\u001b[39m\u001b[32m    119\u001b[39m     options={\u001b[33m'\u001b[39m\u001b[33mmaxiter\u001b[39m\u001b[33m'\u001b[39m: \u001b[32m1000\u001b[39m, \u001b[33m'\u001b[39m\u001b[33mftol\u001b[39m\u001b[33m'\u001b[39m: \u001b[32m1e-10\u001b[39m}\n\u001b[32m    120\u001b[39m )\n\u001b[32m    122\u001b[39m \u001b[38;5;28;01mif\u001b[39;00m \u001b[38;5;129;01mnot\u001b[39;00m result.success:\n\u001b[32m--> \u001b[39m\u001b[32m123\u001b[39m     \u001b[38;5;28;01mraise\u001b[39;00m \u001b[38;5;167;01mRuntimeError\u001b[39;00m(\u001b[33mf\u001b[39m\u001b[33m\"\u001b[39m\u001b[33mÉchec de l\u001b[39m\u001b[33m'\u001b[39m\u001b[33moptimisation DCC : \u001b[39m\u001b[38;5;132;01m{\u001b[39;00mresult.message\u001b[38;5;132;01m}\u001b[39;00m\u001b[38;5;130;01m\\n\u001b[39;00m\u001b[33mParamètres essayés : \u001b[39m\u001b[38;5;132;01m{\u001b[39;00mresult.x\u001b[38;5;132;01m}\u001b[39;00m\u001b[33m\"\u001b[39m)\n\u001b[32m    124\u001b[39m \u001b[38;5;28;01mreturn\u001b[39;00m result.x\n",
      "\u001b[31mRuntimeError\u001b[39m: Échec de l'optimisation DCC : Positive directional derivative for linesearch\nParamètres essayés : [0.9699413  0.02102428]"
     ]
    }
   ],
   "source": [
    "launcher = Launcher(**config)\n",
    "test = launcher.run_process()"
   ]
  }
 ],
 "metadata": {
  "kernelspec": {
   "display_name": ".venv",
   "language": "python",
   "name": "python3"
  },
  "language_info": {
   "codemirror_mode": {
    "name": "ipython",
    "version": 3
   },
   "file_extension": ".py",
   "mimetype": "text/x-python",
   "name": "python",
   "nbconvert_exporter": "python",
   "pygments_lexer": "ipython3",
   "version": "3.11.10"
  }
 },
 "nbformat": 4,
 "nbformat_minor": 5
}
