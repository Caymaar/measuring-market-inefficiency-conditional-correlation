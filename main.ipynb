{
 "cells": [
  {
   "cell_type": "code",
   "execution_count": 1,
   "metadata": {},
   "outputs": [],
   "source": [
    "from src.enums import HurstMethodType\n",
    "from src.launcher import Launcher"
   ]
  },
  {
   "cell_type": "markdown",
   "id": "f98fa233",
   "metadata": {},
   "source": [
    "### Define the parameters"
   ]
  },
  {
   "cell_type": "code",
   "execution_count": null,
   "id": "1937d3d7",
   "metadata": {},
   "outputs": [],
   "source": [
    "estimation_type = HurstMethodType.SCALED_VARIANCE\n",
    "data = [\"s&p500\", \"ftse100\"]\n",
    "dates = {\"Sub-Primes\": [\"01-07-2007\", \"01-09-2009\"],\n",
    "                        \"COVID-2019\": [\"31-12-2020\", \"31-12-2021\"],\n",
    "                        \"Ukraine War\": [\"24-02-2022\", \"24-02-2023\"]}\n",
    "params = {\"window\": 100, \"max_scale\": 100}"
   ]
  },
  {
   "cell_type": "markdown",
   "id": "49f6cf17",
   "metadata": {},
   "source": [
    "### Launch the full process"
   ]
  },
  {
   "cell_type": "code",
   "execution_count": null,
   "id": "489242b0",
   "metadata": {},
   "outputs": [],
   "source": [
    "launcher = Launcher(data=data, dates=dates, hurst_method=estimation_type, params=params)\n",
    "launcher.run_process()"
   ]
  }
 ],
 "metadata": {
  "kernelspec": {
   "display_name": ".venv",
   "language": "python",
   "name": "python3"
  },
  "language_info": {
   "codemirror_mode": {
    "name": "ipython",
    "version": 3
   },
   "file_extension": ".py",
   "mimetype": "text/x-python",
   "name": "python",
   "nbconvert_exporter": "python",
   "pygments_lexer": "ipython3",
   "version": "3.11.10"
  }
 },
 "nbformat": 4,
 "nbformat_minor": 5
}
