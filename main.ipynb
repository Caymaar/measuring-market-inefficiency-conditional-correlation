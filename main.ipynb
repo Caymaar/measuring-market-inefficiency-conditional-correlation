{
 "cells": [
  {
   "cell_type": "code",
   "execution_count": 1,
   "metadata": {},
   "outputs": [],
   "source": [
    "from src.enums import HurstMethodType, GarchMethodType\n",
    "from src.launcher import Launcher"
   ]
  },
  {
   "cell_type": "markdown",
   "id": "f98fa233",
   "metadata": {},
   "source": [
    "### Define the parameters"
   ]
  },
  {
   "cell_type": "code",
   "execution_count": 2,
   "id": "1937d3d7",
   "metadata": {},
   "outputs": [],
   "source": [
    "# config = {\"hurst_method\": HurstMethodType.SCALED_WINDOWED_VARIANCE,\n",
    "#           \"data\": [\"s&p500\", \"ssec\", \"ftse100\", \"ftsemib\"],\n",
    "#           \"dates\": {\"Sub-Primes\": [\"01-07-2007\", \"01-09-2009\"],\n",
    "#                     \"COVID-2019\": [\"31-12-2020\", \"31-12-2021\"],\n",
    "#                     \"Ukraine War\": [\"24-02-2022\", \"24-02-2023\"]},\n",
    "#           \"params\": {\"hurst_params\": {\"method\": \"SD\", \"exclusions\": True},#{\"max_scale\": 20},#,\n",
    "#                      \"window\": 1000}}\n",
    "config = {\"hurst_method\": HurstMethodType.SCALED_WINDOWED_VARIANCE,\n",
    "          \"garch_method\": GarchMethodType.DCC,\n",
    "          \"data\": [\"ftsemib\", \"ssec\"],\n",
    "          \"dates\": {\"Sub-Primes\": [\"01-07-2007\", \"01-09-2009\"]},\n",
    "          \"params\": {\"hurst_params\": {\"method\": \"SD\", \"exclusions\": True},\"window\": 100}}"
   ]
  },
  {
   "cell_type": "markdown",
   "id": "49f6cf17",
   "metadata": {},
   "source": [
    "### Launch the full process"
   ]
  },
  {
   "cell_type": "code",
   "execution_count": 3,
   "id": "489242b0",
   "metadata": {},
   "outputs": [
    {
     "name": "stdout",
     "output_type": "stream",
     "text": [
      "Processing period: Sub-Primes with dates: ['01-07-2007', '01-09-2009']\n",
      "\n"
     ]
    },
    {
     "ename": "TypeError",
     "evalue": "'float' object is not subscriptable",
     "output_type": "error",
     "traceback": [
      "\u001b[1;31m---------------------------------------------------------------------------\u001b[0m",
      "\u001b[1;31mTypeError\u001b[0m                                 Traceback (most recent call last)",
      "Cell \u001b[1;32mIn[3], line 2\u001b[0m\n\u001b[0;32m      1\u001b[0m launcher \u001b[38;5;241m=\u001b[39m Launcher(\u001b[38;5;241m*\u001b[39m\u001b[38;5;241m*\u001b[39mconfig)\n\u001b[1;32m----> 2\u001b[0m test \u001b[38;5;241m=\u001b[39m \u001b[43mlauncher\u001b[49m\u001b[38;5;241;43m.\u001b[39;49m\u001b[43mrun_process\u001b[49m\u001b[43m(\u001b[49m\u001b[43m)\u001b[49m\n",
      "File \u001b[1;32mc:\\Users\\bapdu\\COMMUN\\Dauphine\\measuring-market-inefficiency-conditional-correlation\\src\\launcher.py:88\u001b[0m, in \u001b[0;36mLauncher.run_process\u001b[1;34m(self)\u001b[0m\n\u001b[0;32m     86\u001b[0m period_data \u001b[38;5;241m=\u001b[39m \u001b[38;5;28mself\u001b[39m\u001b[38;5;241m.\u001b[39m_get_sub_dataframe(set_dates)\n\u001b[0;32m     87\u001b[0m framework \u001b[38;5;241m=\u001b[39m Framework(period_data, \u001b[38;5;28mself\u001b[39m\u001b[38;5;241m.\u001b[39mhurst_method, \u001b[38;5;28mself\u001b[39m\u001b[38;5;241m.\u001b[39mgarch_method, \u001b[38;5;28mself\u001b[39m\u001b[38;5;241m.\u001b[39mparams)\n\u001b[1;32m---> 88\u001b[0m \u001b[43mframework\u001b[49m\u001b[38;5;241;43m.\u001b[39;49m\u001b[43mrun\u001b[49m\u001b[43m(\u001b[49m\u001b[43m)\u001b[49m\n",
      "File \u001b[1;32mc:\\Users\\bapdu\\COMMUN\\Dauphine\\measuring-market-inefficiency-conditional-correlation\\src\\framework.py:77\u001b[0m, in \u001b[0;36mFramework.run\u001b[1;34m(self)\u001b[0m\n\u001b[0;32m     74\u001b[0m \u001b[38;5;28mself\u001b[39m\u001b[38;5;241m.\u001b[39m_compute_inefficiency()\n\u001b[0;32m     76\u001b[0m \u001b[38;5;66;03m# Compute ADF test and ARCH test\u001b[39;00m\n\u001b[1;32m---> 77\u001b[0m data_diff, adf_result \u001b[38;5;241m=\u001b[39m \u001b[38;5;28;43mself\u001b[39;49m\u001b[38;5;241;43m.\u001b[39;49m\u001b[43mmatlab_wrapper\u001b[49m\u001b[38;5;241;43m.\u001b[39;49m\u001b[43mensure_stationarity\u001b[49m\u001b[43m(\u001b[49m\u001b[38;5;28;43mself\u001b[39;49m\u001b[38;5;241;43m.\u001b[39;49m\u001b[43minefficiency_df\u001b[49m\u001b[38;5;241;43m.\u001b[39;49m\u001b[43miloc\u001b[49m\u001b[43m[\u001b[49m\u001b[43m:\u001b[49m\u001b[43m,\u001b[49m\u001b[43m \u001b[49m\u001b[38;5;241;43m1\u001b[39;49m\u001b[43m:\u001b[49m\u001b[43m]\u001b[49m\u001b[43m,\u001b[49m\u001b[43m \u001b[49m\u001b[43mlag\u001b[49m\u001b[38;5;241;43m=\u001b[39;49m\u001b[38;5;241;43m9\u001b[39;49m\u001b[43m,\u001b[49m\u001b[43m \u001b[49m\u001b[43mthreshold\u001b[49m\u001b[38;5;241;43m=\u001b[39;49m\u001b[38;5;241;43m0.05\u001b[39;49m\u001b[43m)\u001b[49m\n\u001b[0;32m     78\u001b[0m arch_df \u001b[38;5;241m=\u001b[39m \u001b[38;5;28mself\u001b[39m\u001b[38;5;241m.\u001b[39mmatlab_wrapper\u001b[38;5;241m.\u001b[39mperform_arch_test(data_diff, \u001b[38;5;241m5\u001b[39m)\n\u001b[0;32m     80\u001b[0m \u001b[38;5;28mprint\u001b[39m(\u001b[38;5;124m\"\u001b[39m\u001b[38;5;124m=== Résultats ADF ===\u001b[39m\u001b[38;5;124m\"\u001b[39m)\n",
      "File \u001b[1;32mc:\\Users\\bapdu\\COMMUN\\Dauphine\\measuring-market-inefficiency-conditional-correlation\\src\\matlab_src\\matlab_wrapper.py:35\u001b[0m, in \u001b[0;36mMatlabEngineWrapper.ensure_stationarity\u001b[1;34m(self, data, lag, threshold)\u001b[0m\n\u001b[0;32m     32\u001b[0m diff_count \u001b[38;5;241m=\u001b[39m {col: \u001b[38;5;241m0\u001b[39m \u001b[38;5;28;01mfor\u001b[39;00m col \u001b[38;5;129;01min\u001b[39;00m data\u001b[38;5;241m.\u001b[39mcolumns}\n\u001b[0;32m     34\u001b[0m \u001b[38;5;28;01mfor\u001b[39;00m _ \u001b[38;5;129;01min\u001b[39;00m \u001b[38;5;28mrange\u001b[39m(max_iter):\n\u001b[1;32m---> 35\u001b[0m     adf_result \u001b[38;5;241m=\u001b[39m \u001b[38;5;28;43mself\u001b[39;49m\u001b[38;5;241;43m.\u001b[39;49m\u001b[43mperform_adf_test\u001b[49m\u001b[43m(\u001b[49m\u001b[43mtransformed_data\u001b[49m\u001b[43m,\u001b[49m\u001b[43m \u001b[49m\u001b[43mlag\u001b[49m\u001b[43m)\u001b[49m\n\u001b[0;32m     36\u001b[0m     non_stationary_cols \u001b[38;5;241m=\u001b[39m adf_result[adf_result[\u001b[38;5;124m\"\u001b[39m\u001b[38;5;124mADF_pValue\u001b[39m\u001b[38;5;124m\"\u001b[39m] \u001b[38;5;241m>\u001b[39m threshold][\u001b[38;5;124m\"\u001b[39m\u001b[38;5;124mMarketIndex\u001b[39m\u001b[38;5;124m\"\u001b[39m]\n\u001b[0;32m     38\u001b[0m     \u001b[38;5;28;01mif\u001b[39;00m non_stationary_cols\u001b[38;5;241m.\u001b[39mempty:\n",
      "File \u001b[1;32mc:\\Users\\bapdu\\COMMUN\\Dauphine\\measuring-market-inefficiency-conditional-correlation\\src\\matlab_src\\matlab_wrapper.py:23\u001b[0m, in \u001b[0;36mMatlabEngineWrapper.perform_adf_test\u001b[1;34m(self, data, lag)\u001b[0m\n\u001b[0;32m     21\u001b[0m data_matlab \u001b[38;5;241m=\u001b[39m \u001b[38;5;28mself\u001b[39m\u001b[38;5;241m.\u001b[39mpandas_to_matlab_table(data)\n\u001b[0;32m     22\u001b[0m adf_stats, adf_pvalues \u001b[38;5;241m=\u001b[39m \u001b[38;5;28mself\u001b[39m\u001b[38;5;241m.\u001b[39mengine\u001b[38;5;241m.\u001b[39mperformADFTest(data_matlab, \u001b[38;5;28mfloat\u001b[39m(lag), nargout\u001b[38;5;241m=\u001b[39m\u001b[38;5;241m2\u001b[39m)\n\u001b[1;32m---> 23\u001b[0m \u001b[38;5;28;01mreturn\u001b[39;00m \u001b[38;5;28;43mself\u001b[39;49m\u001b[38;5;241;43m.\u001b[39;49m\u001b[43mformat_results_df\u001b[49m\u001b[43m(\u001b[49m\u001b[43mdata\u001b[49m\u001b[38;5;241;43m.\u001b[39;49m\u001b[43mcolumns\u001b[49m\u001b[38;5;241;43m.\u001b[39;49m\u001b[43mtolist\u001b[49m\u001b[43m(\u001b[49m\u001b[43m)\u001b[49m\u001b[43m,\u001b[49m\u001b[43m \u001b[49m\u001b[43madf_stats\u001b[49m\u001b[43m,\u001b[49m\u001b[43m \u001b[49m\u001b[43madf_pvalues\u001b[49m\u001b[43m,\u001b[49m\u001b[43m \u001b[49m\u001b[43mtest_name\u001b[49m\u001b[38;5;241;43m=\u001b[39;49m\u001b[38;5;124;43m\"\u001b[39;49m\u001b[38;5;124;43mADF\u001b[39;49m\u001b[38;5;124;43m\"\u001b[39;49m\u001b[43m,\u001b[49m\u001b[43m \u001b[49m\u001b[43mnb_lags\u001b[49m\u001b[38;5;241;43m=\u001b[39;49m\u001b[43mlag\u001b[49m\u001b[43m)\u001b[49m\n",
      "File \u001b[1;32mc:\\Users\\bapdu\\COMMUN\\Dauphine\\measuring-market-inefficiency-conditional-correlation\\src\\matlab_src\\matlab_wrapper.py:180\u001b[0m, in \u001b[0;36mMatlabEngineWrapper.format_results_df\u001b[1;34m(self, var_names, stats, pvalues, test_name, nb_lags)\u001b[0m\n\u001b[0;32m    176\u001b[0m \u001b[38;5;28;01mdef\u001b[39;00m \u001b[38;5;21mformat_results_df\u001b[39m(\u001b[38;5;28mself\u001b[39m, var_names, stats, pvalues, test_name\u001b[38;5;241m=\u001b[39m\u001b[38;5;124m\"\u001b[39m\u001b[38;5;124mTest\u001b[39m\u001b[38;5;124m\"\u001b[39m, nb_lags \u001b[38;5;241m=\u001b[39m \u001b[38;5;241m0\u001b[39m):\n\u001b[0;32m    177\u001b[0m \u001b[38;5;250m    \u001b[39m\u001b[38;5;124;03m\"\"\"Retourne un DataFrame formaté avec les résultats.\"\"\"\u001b[39;00m\n\u001b[0;32m    178\u001b[0m     \u001b[38;5;28;01mreturn\u001b[39;00m pd\u001b[38;5;241m.\u001b[39mDataFrame({\n\u001b[0;32m    179\u001b[0m         \u001b[38;5;124m'\u001b[39m\u001b[38;5;124mMarketIndex\u001b[39m\u001b[38;5;124m'\u001b[39m: var_names,\n\u001b[1;32m--> 180\u001b[0m         \u001b[38;5;124mf\u001b[39m\u001b[38;5;124m'\u001b[39m\u001b[38;5;132;01m{\u001b[39;00mtest_name\u001b[38;5;132;01m}\u001b[39;00m\u001b[38;5;124m_Statistic\u001b[39m\u001b[38;5;124m'\u001b[39m: [\u001b[38;5;28mfloat\u001b[39m(s) \u001b[38;5;28;01mfor\u001b[39;00m s \u001b[38;5;129;01min\u001b[39;00m \u001b[43mstats\u001b[49m\u001b[43m[\u001b[49m\u001b[38;5;241;43m0\u001b[39;49m\u001b[43m]\u001b[49m],\n\u001b[0;32m    181\u001b[0m         \u001b[38;5;124mf\u001b[39m\u001b[38;5;124m'\u001b[39m\u001b[38;5;132;01m{\u001b[39;00mtest_name\u001b[38;5;132;01m}\u001b[39;00m\u001b[38;5;124m_pValue\u001b[39m\u001b[38;5;124m'\u001b[39m: [\u001b[38;5;28mfloat\u001b[39m(p) \u001b[38;5;28;01mfor\u001b[39;00m p \u001b[38;5;129;01min\u001b[39;00m pvalues[\u001b[38;5;241m0\u001b[39m]],\n\u001b[0;32m    182\u001b[0m         \u001b[38;5;124m\"\u001b[39m\u001b[38;5;124mLags\u001b[39m\u001b[38;5;124m\"\u001b[39m: [nb_lags] \u001b[38;5;241m*\u001b[39m \u001b[38;5;28mlen\u001b[39m(var_names),\n\u001b[0;32m    183\u001b[0m     })\n",
      "\u001b[1;31mTypeError\u001b[0m: 'float' object is not subscriptable"
     ]
    }
   ],
   "source": [
    "launcher = Launcher(**config)\n",
    "test = launcher.run_process()"
   ]
  }
 ],
 "metadata": {
  "kernelspec": {
   "display_name": "base",
   "language": "python",
   "name": "python3"
  },
  "language_info": {
   "codemirror_mode": {
    "name": "ipython",
    "version": 3
   },
   "file_extension": ".py",
   "mimetype": "text/x-python",
   "name": "python",
   "nbconvert_exporter": "python",
   "pygments_lexer": "ipython3",
   "version": "3.12.3"
  }
 },
 "nbformat": 4,
 "nbformat_minor": 5
}
